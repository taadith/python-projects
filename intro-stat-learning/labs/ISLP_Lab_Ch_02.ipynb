{
  "cells": [
    {
      "cell_type": "markdown",
      "metadata": {
        "colab_type": "text",
        "id": "view-in-github"
      },
      "source": [
        "<a href=\"https://colab.research.google.com/github/taadith/python-projects/blob/main/intro-stat-learning/labs/ISLP_Lab_Ch_02.ipynb\" target=\"_parent\"><img src=\"https://colab.research.google.com/assets/colab-badge.svg\" alt=\"Open In Colab\"/></a>"
      ]
    },
    {
      "cell_type": "markdown",
      "metadata": {
        "id": "kJdlBjzEEv_e"
      },
      "source": [
        "# Introduction to Statistical Learning - Lab 02\n",
        "Dataset provided by Introduction to Statistical Learning\n",
        "(from this website: https://www.statlearning.com/resources-python)"
      ]
    },
    {
      "cell_type": "markdown",
      "metadata": {
        "id": "CCxUdV67G9T5"
      },
      "source": [
        "**Note: Assuming that *Auto.csv* is in same folder as this notebook.**"
      ]
    },
    {
      "cell_type": "markdown",
      "metadata": {
        "id": "E4WmiyAqFV8i"
      },
      "source": [
        "## Installing libraries"
      ]
    },
    {
      "cell_type": "code",
      "execution_count": 1,
      "metadata": {
        "colab": {
          "base_uri": "https://localhost:8080/"
        },
        "collapsed": true,
        "id": "GQL7bR-yxiHa",
        "outputId": "fa324df1-5cd5-47d2-dea8-d381cdd6558f"
      },
      "outputs": [
        {
          "name": "stdout",
          "output_type": "stream",
          "text": [
            "Requirement already satisfied: pandas in /Users/aaditht/Library/Python/3.12/lib/python/site-packages (2.2.2)\n",
            "Requirement already satisfied: numpy>=1.26.0 in /opt/homebrew/lib/python3.12/site-packages (from pandas) (2.0.0)\n",
            "Requirement already satisfied: python-dateutil>=2.8.2 in /Users/aaditht/Library/Python/3.12/lib/python/site-packages (from pandas) (2.9.0.post0)\n",
            "Requirement already satisfied: pytz>=2020.1 in /Users/aaditht/Library/Python/3.12/lib/python/site-packages (from pandas) (2024.1)\n",
            "Requirement already satisfied: tzdata>=2022.7 in /Users/aaditht/Library/Python/3.12/lib/python/site-packages (from pandas) (2024.1)\n",
            "Requirement already satisfied: six>=1.5 in /Users/aaditht/Library/Python/3.12/lib/python/site-packages (from python-dateutil>=2.8.2->pandas) (1.16.0)\n",
            "Requirement already satisfied: numpy in /opt/homebrew/lib/python3.12/site-packages (2.0.0)\n",
            "Requirement already satisfied: matplotlib in /Users/aaditht/Library/Python/3.12/lib/python/site-packages (3.9.1)\n",
            "Requirement already satisfied: contourpy>=1.0.1 in /Users/aaditht/Library/Python/3.12/lib/python/site-packages (from matplotlib) (1.2.1)\n",
            "Requirement already satisfied: cycler>=0.10 in /Users/aaditht/Library/Python/3.12/lib/python/site-packages (from matplotlib) (0.12.1)\n",
            "Requirement already satisfied: fonttools>=4.22.0 in /Users/aaditht/Library/Python/3.12/lib/python/site-packages (from matplotlib) (4.53.1)\n",
            "Requirement already satisfied: kiwisolver>=1.3.1 in /Users/aaditht/Library/Python/3.12/lib/python/site-packages (from matplotlib) (1.4.5)\n",
            "Requirement already satisfied: numpy>=1.23 in /opt/homebrew/lib/python3.12/site-packages (from matplotlib) (2.0.0)\n",
            "Requirement already satisfied: packaging>=20.0 in /Users/aaditht/Library/Python/3.12/lib/python/site-packages (from matplotlib) (24.1)\n",
            "Requirement already satisfied: pillow>=8 in /Users/aaditht/Library/Python/3.12/lib/python/site-packages (from matplotlib) (10.4.0)\n",
            "Requirement already satisfied: pyparsing>=2.3.1 in /Users/aaditht/Library/Python/3.12/lib/python/site-packages (from matplotlib) (3.1.2)\n",
            "Requirement already satisfied: python-dateutil>=2.7 in /Users/aaditht/Library/Python/3.12/lib/python/site-packages (from matplotlib) (2.9.0.post0)\n",
            "Requirement already satisfied: six>=1.5 in /Users/aaditht/Library/Python/3.12/lib/python/site-packages (from python-dateutil>=2.7->matplotlib) (1.16.0)\n",
            "Requirement already satisfied: seaborn in /Users/aaditht/Library/Python/3.12/lib/python/site-packages (0.13.2)\n",
            "Requirement already satisfied: numpy!=1.24.0,>=1.20 in /opt/homebrew/lib/python3.12/site-packages (from seaborn) (2.0.0)\n",
            "Requirement already satisfied: pandas>=1.2 in /Users/aaditht/Library/Python/3.12/lib/python/site-packages (from seaborn) (2.2.2)\n",
            "Requirement already satisfied: matplotlib!=3.6.1,>=3.4 in /Users/aaditht/Library/Python/3.12/lib/python/site-packages (from seaborn) (3.9.1)\n",
            "Requirement already satisfied: contourpy>=1.0.1 in /Users/aaditht/Library/Python/3.12/lib/python/site-packages (from matplotlib!=3.6.1,>=3.4->seaborn) (1.2.1)\n",
            "Requirement already satisfied: cycler>=0.10 in /Users/aaditht/Library/Python/3.12/lib/python/site-packages (from matplotlib!=3.6.1,>=3.4->seaborn) (0.12.1)\n",
            "Requirement already satisfied: fonttools>=4.22.0 in /Users/aaditht/Library/Python/3.12/lib/python/site-packages (from matplotlib!=3.6.1,>=3.4->seaborn) (4.53.1)\n",
            "Requirement already satisfied: kiwisolver>=1.3.1 in /Users/aaditht/Library/Python/3.12/lib/python/site-packages (from matplotlib!=3.6.1,>=3.4->seaborn) (1.4.5)\n",
            "Requirement already satisfied: packaging>=20.0 in /Users/aaditht/Library/Python/3.12/lib/python/site-packages (from matplotlib!=3.6.1,>=3.4->seaborn) (24.1)\n",
            "Requirement already satisfied: pillow>=8 in /Users/aaditht/Library/Python/3.12/lib/python/site-packages (from matplotlib!=3.6.1,>=3.4->seaborn) (10.4.0)\n",
            "Requirement already satisfied: pyparsing>=2.3.1 in /Users/aaditht/Library/Python/3.12/lib/python/site-packages (from matplotlib!=3.6.1,>=3.4->seaborn) (3.1.2)\n",
            "Requirement already satisfied: python-dateutil>=2.7 in /Users/aaditht/Library/Python/3.12/lib/python/site-packages (from matplotlib!=3.6.1,>=3.4->seaborn) (2.9.0.post0)\n",
            "Requirement already satisfied: pytz>=2020.1 in /Users/aaditht/Library/Python/3.12/lib/python/site-packages (from pandas>=1.2->seaborn) (2024.1)\n",
            "Requirement already satisfied: tzdata>=2022.7 in /Users/aaditht/Library/Python/3.12/lib/python/site-packages (from pandas>=1.2->seaborn) (2024.1)\n",
            "Requirement already satisfied: six>=1.5 in /Users/aaditht/Library/Python/3.12/lib/python/site-packages (from python-dateutil>=2.7->matplotlib!=3.6.1,>=3.4->seaborn) (1.16.0)\n"
          ]
        }
      ],
      "source": [
        "!pip3 install pandas\n",
        "!pip3 install numpy\n",
        "!pip3 install matplotlib\n",
        "!pip3 install seaborn"
      ]
    },
    {
      "cell_type": "markdown",
      "metadata": {
        "id": "ZA7sSiZ4FnLS"
      },
      "source": [
        "##Basic Commands"
      ]
    },
    {
      "cell_type": "markdown",
      "metadata": {
        "id": "XJ4d8fwJjUXP"
      },
      "source": [
        "The *?* command helps provide information about functions by providing it's respective Docstring. Here's the *print()*'s function Docstring..."
      ]
    },
    {
      "cell_type": "code",
      "execution_count": 2,
      "metadata": {
        "id": "Yk5qYySKjcSL",
        "outputId": "4cc6f7b8-4f5d-4d48-9cd4-c81a51ae9864"
      },
      "outputs": [
        {
          "name": "stdout",
          "output_type": "stream",
          "text": [
            "\u001b[0;31mSignature:\u001b[0m \u001b[0mprint\u001b[0m\u001b[0;34m(\u001b[0m\u001b[0;34m*\u001b[0m\u001b[0margs\u001b[0m\u001b[0;34m,\u001b[0m \u001b[0msep\u001b[0m\u001b[0;34m=\u001b[0m\u001b[0;34m' '\u001b[0m\u001b[0;34m,\u001b[0m \u001b[0mend\u001b[0m\u001b[0;34m=\u001b[0m\u001b[0;34m'\\n'\u001b[0m\u001b[0;34m,\u001b[0m \u001b[0mfile\u001b[0m\u001b[0;34m=\u001b[0m\u001b[0;32mNone\u001b[0m\u001b[0;34m,\u001b[0m \u001b[0mflush\u001b[0m\u001b[0;34m=\u001b[0m\u001b[0;32mFalse\u001b[0m\u001b[0;34m)\u001b[0m\u001b[0;34m\u001b[0m\u001b[0;34m\u001b[0m\u001b[0m\n",
            "\u001b[0;31mDocstring:\u001b[0m\n",
            "Prints the values to a stream, or to sys.stdout by default.\n",
            "\n",
            "sep\n",
            "  string inserted between values, default a space.\n",
            "end\n",
            "  string appended after the last value, default a newline.\n",
            "file\n",
            "  a file-like object (stream); defaults to the current sys.stdout.\n",
            "flush\n",
            "  whether to forcibly flush the stream.\n",
            "\u001b[0;31mType:\u001b[0m      builtin_function_or_method"
          ]
        }
      ],
      "source": [
        "print?"
      ]
    },
    {
      "cell_type": "code",
      "execution_count": 3,
      "metadata": {
        "colab": {
          "base_uri": "https://localhost:8080/"
        },
        "id": "p4NHCGcLjOK3",
        "outputId": "f70ae058-012e-4a4b-b568-abdc075a2c99"
      },
      "outputs": [
        {
          "name": "stdout",
          "output_type": "stream",
          "text": [
            "fit a model with 11 variables\n"
          ]
        }
      ],
      "source": [
        "print(\"fit a model with\", 11, \"variables\")"
      ]
    },
    {
      "cell_type": "markdown",
      "metadata": {
        "id": "Br_YwYjjjujN"
      },
      "source": [
        "In Python, there are three important type of sequences, ordered lists: lists, tuples, and strings. We introduce lists..."
      ]
    },
    {
      "cell_type": "code",
      "execution_count": 4,
      "metadata": {
        "colab": {
          "base_uri": "https://localhost:8080/"
        },
        "id": "Mhl7Og6ej5M_",
        "outputId": "cf02178d-4b81-49ed-9116-03041946610b"
      },
      "outputs": [
        {
          "data": {
            "text/plain": [
              "[1, 2, 3, 4, 5, 6]"
            ]
          },
          "execution_count": 4,
          "metadata": {},
          "output_type": "execute_result"
        }
      ],
      "source": [
        "x = [1, 2, 3]\n",
        "y = [4, 5, 6]\n",
        "x + y"
      ]
    },
    {
      "cell_type": "markdown",
      "metadata": {
        "id": "KTojljZIj-nc"
      },
      "source": [
        "In Python, lists hold arbitary objects and are added by concatentation, not element-by-element. This makes sense since Python is designed as a general-purpose programming language. Python's data-specific functionality comes from the *numpy* and *pandas* packages!"
      ]
    },
    {
      "cell_type": "markdown",
      "metadata": {
        "id": "WmkZMv9IkebD"
      },
      "source": [
        "## Intro to Numerical Python"
      ]
    },
    {
      "cell_type": "code",
      "execution_count": 5,
      "metadata": {
        "id": "bloPUkCeOyIZ"
      },
      "outputs": [],
      "source": [
        "import numpy as np"
      ]
    },
    {
      "cell_type": "markdown",
      "metadata": {
        "id": "IqAyt_U7bJJA"
      },
      "source": [
        "###Numpy Arrays"
      ]
    },
    {
      "cell_type": "markdown",
      "metadata": {
        "id": "DnPx8AeNxFrh"
      },
      "source": [
        "In numpy, an array is a generic term for a multidimensional set, in the non-mathematical sense, of numbers."
      ]
    },
    {
      "cell_type": "code",
      "execution_count": 6,
      "metadata": {
        "id": "roJ-6sixO0Jr",
        "outputId": "cd072af3-9f92-4bb5-d995-d2ff8388c81b"
      },
      "outputs": [
        {
          "name": "stdout",
          "output_type": "stream",
          "text": [
            "\u001b[0;31mDocstring:\u001b[0m\n",
            "array(object, dtype=None, *, copy=True, order='K', subok=False, ndmin=0,\n",
            "      like=None)\n",
            "\n",
            "Create an array.\n",
            "\n",
            "Parameters\n",
            "----------\n",
            "object : array_like\n",
            "    An array, any object exposing the array interface, an object whose\n",
            "    ``__array__`` method returns an array, or any (nested) sequence.\n",
            "    If object is a scalar, a 0-dimensional array containing object is\n",
            "    returned.\n",
            "dtype : data-type, optional\n",
            "    The desired data-type for the array. If not given, NumPy will try to use\n",
            "    a default ``dtype`` that can represent the values (by applying promotion\n",
            "    rules when necessary.)\n",
            "copy : bool, optional\n",
            "    If ``True`` (default), then the array data is copied. If ``None``,\n",
            "    a copy will only be made if ``__array__`` returns a copy, if obj is\n",
            "    a nested sequence, or if a copy is needed to satisfy any of the other\n",
            "    requirements (``dtype``, ``order``, etc.). Note that any copy of\n",
            "    the data is shallow, i.e., for arrays with object dtype, the new\n",
            "    array will point to the same objects. See Examples for `ndarray.copy`.\n",
            "    For ``False`` it raises a ``ValueError`` if a copy cannot be avoided.\n",
            "    Default: ``True``.\n",
            "order : {'K', 'A', 'C', 'F'}, optional\n",
            "    Specify the memory layout of the array. If object is not an array, the\n",
            "    newly created array will be in C order (row major) unless 'F' is\n",
            "    specified, in which case it will be in Fortran order (column major).\n",
            "    If object is an array the following holds.\n",
            "\n",
            "    ===== ========= ===================================================\n",
            "    order  no copy                     copy=True\n",
            "    ===== ========= ===================================================\n",
            "    'K'   unchanged F & C order preserved, otherwise most similar order\n",
            "    'A'   unchanged F order if input is F and not C, otherwise C order\n",
            "    'C'   C order   C order\n",
            "    'F'   F order   F order\n",
            "    ===== ========= ===================================================\n",
            "\n",
            "    When ``copy=None`` and a copy is made for other reasons, the result is\n",
            "    the same as if ``copy=True``, with some exceptions for 'A', see the\n",
            "    Notes section. The default order is 'K'.\n",
            "subok : bool, optional\n",
            "    If True, then sub-classes will be passed-through, otherwise\n",
            "    the returned array will be forced to be a base-class array (default).\n",
            "ndmin : int, optional\n",
            "    Specifies the minimum number of dimensions that the resulting\n",
            "    array should have.  Ones will be prepended to the shape as\n",
            "    needed to meet this requirement.\n",
            "like : array_like, optional\n",
            "    Reference object to allow the creation of arrays which are not\n",
            "    NumPy arrays. If an array-like passed in as ``like`` supports\n",
            "    the ``__array_function__`` protocol, the result will be defined\n",
            "    by it. In this case, it ensures the creation of an array object\n",
            "    compatible with that passed in via this argument.\n",
            "\n",
            "    .. versionadded:: 1.20.0\n",
            "\n",
            "Returns\n",
            "-------\n",
            "out : ndarray\n",
            "    An array object satisfying the specified requirements.\n",
            "\n",
            "See Also\n",
            "--------\n",
            "empty_like : Return an empty array with shape and type of input.\n",
            "ones_like : Return an array of ones with shape and type of input.\n",
            "zeros_like : Return an array of zeros with shape and type of input.\n",
            "full_like : Return a new array with shape of input filled with value.\n",
            "empty : Return a new uninitialized array.\n",
            "ones : Return a new array setting values to one.\n",
            "zeros : Return a new array setting values to zero.\n",
            "full : Return a new array of given shape filled with value.\n",
            "copy: Return an array copy of the given object.\n",
            "\n",
            "\n",
            "Notes\n",
            "-----\n",
            "When order is 'A' and ``object`` is an array in neither 'C' nor 'F' order,\n",
            "and a copy is forced by a change in dtype, then the order of the result is\n",
            "not necessarily 'C' as expected. This is likely a bug.\n",
            "\n",
            "Examples\n",
            "--------\n",
            ">>> np.array([1, 2, 3])\n",
            "array([1, 2, 3])\n",
            "\n",
            "Upcasting:\n",
            "\n",
            ">>> np.array([1, 2, 3.0])\n",
            "array([ 1.,  2.,  3.])\n",
            "\n",
            "More than one dimension:\n",
            "\n",
            ">>> np.array([[1, 2], [3, 4]])\n",
            "array([[1, 2],\n",
            "       [3, 4]])\n",
            "\n",
            "Minimum dimensions 2:\n",
            "\n",
            ">>> np.array([1, 2, 3], ndmin=2)\n",
            "array([[1, 2, 3]])\n",
            "\n",
            "Type provided:\n",
            "\n",
            ">>> np.array([1, 2, 3], dtype=complex)\n",
            "array([ 1.+0.j,  2.+0.j,  3.+0.j])\n",
            "\n",
            "Data-type consisting of more than one element:\n",
            "\n",
            ">>> x = np.array([(1,2),(3,4)],dtype=[('a','<i4'),('b','<i4')])\n",
            ">>> x['a']\n",
            "array([1, 3])\n",
            "\n",
            "Creating an array from sub-classes:\n",
            "\n",
            ">>> np.array(np.asmatrix('1 2; 3 4'))\n",
            "array([[1, 2],\n",
            "       [3, 4]])\n",
            "\n",
            ">>> np.array(np.asmatrix('1 2; 3 4'), subok=True)\n",
            "matrix([[1, 2],\n",
            "        [3, 4]])\n",
            "\u001b[0;31mType:\u001b[0m      builtin_function_or_method"
          ]
        }
      ],
      "source": [
        "np.array?"
      ]
    },
    {
      "cell_type": "markdown",
      "metadata": {
        "id": "FCJjFavrJUwU"
      },
      "source": [
        "We see that the numpy arrays are added to each other element-by-element instead of being concatenated!!! Yayyy!"
      ]
    },
    {
      "cell_type": "code",
      "execution_count": 7,
      "metadata": {
        "colab": {
          "base_uri": "https://localhost:8080/"
        },
        "id": "Vjxgozeskgh_",
        "outputId": "ee87a020-ac0e-4ea2-9498-9ab993003f1d"
      },
      "outputs": [
        {
          "data": {
            "text/plain": [
              "array([5, 7, 9])"
            ]
          },
          "execution_count": 7,
          "metadata": {},
          "output_type": "execute_result"
        }
      ],
      "source": [
        "x = np.array([1, 2, 3])\n",
        "y = np.array([4, 5, 6])\n",
        "x + y"
      ]
    },
    {
      "cell_type": "markdown",
      "metadata": {
        "id": "2YWV7YKsJdUN"
      },
      "source": [
        "Besides one-dimensional numpy arrays, we can essentially make a n-dimensional numpy array, where n is any integer greater than or equal to 1 that is computationally possible."
      ]
    },
    {
      "cell_type": "code",
      "execution_count": 8,
      "metadata": {
        "id": "gf1SS7mNKdPB"
      },
      "outputs": [],
      "source": [
        "x_1d = np.array([1, 2])\n",
        "x_2d = np.array([[1, 2], [3, 4]])\n",
        "x_3d = np.array([[[1, 2], [3, 4]], [[5, 6], [7, 8]], [[9, 10], [11, 12]], [[13, 14], [15, 16]]])"
      ]
    },
    {
      "cell_type": "markdown",
      "metadata": {
        "id": "AIfl_sMoKd0D"
      },
      "source": [
        "We can observe the dimensions of a numpy array using the attribute *ndim*."
      ]
    },
    {
      "cell_type": "code",
      "execution_count": 9,
      "metadata": {
        "colab": {
          "base_uri": "https://localhost:8080/"
        },
        "id": "qgdwb7gKMbob",
        "outputId": "a3e84da8-29f3-4083-95f7-fef29392c6dd"
      },
      "outputs": [
        {
          "name": "stdout",
          "output_type": "stream",
          "text": [
            "x_1d dimensions: 1\n",
            "x_2d dimensions: 2\n",
            "x_3d dimensions: 3\n"
          ]
        }
      ],
      "source": [
        "print(\"x_1d dimensions:\", x_1d.ndim)\n",
        "print(\"x_2d dimensions:\", x_2d.ndim)\n",
        "print(\"x_3d dimensions:\", x_3d.ndim)"
      ]
    },
    {
      "cell_type": "markdown",
      "metadata": {
        "id": "IUVh8ZjxMcal"
      },
      "source": [
        "Along with the dimensions of the numpy array, the shape of the array itself can be observed with the *shape* attribute."
      ]
    },
    {
      "cell_type": "code",
      "execution_count": 10,
      "metadata": {
        "colab": {
          "base_uri": "https://localhost:8080/"
        },
        "id": "hHslpwIhNVur",
        "outputId": "04113182-8a3c-4f8e-facf-2e0ad1115e2f"
      },
      "outputs": [
        {
          "name": "stdout",
          "output_type": "stream",
          "text": [
            "x_1d shape: (2,)\n",
            "x_2d shape: (2, 2)\n",
            "x_3d shape: (4, 2, 2)\n"
          ]
        }
      ],
      "source": [
        "print(\"x_1d shape:\", x_1d.shape)\n",
        "print(\"x_2d shape:\", x_2d.shape)\n",
        "print(\"x_3d shape:\", x_3d.shape)"
      ]
    },
    {
      "cell_type": "markdown",
      "metadata": {
        "id": "achxdy1-NPn1"
      },
      "source": [
        "The data type stored within the numpy array can be observed using *dtype()*."
      ]
    },
    {
      "cell_type": "code",
      "execution_count": 11,
      "metadata": {
        "colab": {
          "base_uri": "https://localhost:8080/"
        },
        "id": "phQ8wNoAN8nS",
        "outputId": "87bd6d2a-e83d-4a30-e1fd-b5fa179fb862"
      },
      "outputs": [
        {
          "name": "stdout",
          "output_type": "stream",
          "text": [
            "x_1d dtype: int64\n",
            "x_2d dtype: int64\n",
            "x_3d dtype: int64\n"
          ]
        }
      ],
      "source": [
        "print(\"x_1d dtype:\", x_1d.dtype)\n",
        "print(\"x_2d dtype:\", x_2d.dtype)\n",
        "print(\"x_3d dtype:\", x_3d.dtype)"
      ]
    },
    {
      "cell_type": "markdown",
      "metadata": {
        "id": "_oscEWiDR-1M"
      },
      "source": [
        "The *reshape()* method returns a new array with the same elements the numpy array that calls."
      ]
    },
    {
      "cell_type": "code",
      "execution_count": 12,
      "metadata": {
        "id": "CF0pJRI_VZ_n"
      },
      "outputs": [
        {
          "name": "stdout",
          "output_type": "stream",
          "text": [
            "\u001b[0;31mSignature:\u001b[0m       \u001b[0mnp\u001b[0m\u001b[0;34m.\u001b[0m\u001b[0mreshape\u001b[0m\u001b[0;34m(\u001b[0m\u001b[0ma\u001b[0m\u001b[0;34m,\u001b[0m \u001b[0mnewshape\u001b[0m\u001b[0;34m,\u001b[0m \u001b[0morder\u001b[0m\u001b[0;34m=\u001b[0m\u001b[0;34m'C'\u001b[0m\u001b[0;34m)\u001b[0m\u001b[0;34m\u001b[0m\u001b[0;34m\u001b[0m\u001b[0m\n",
            "\u001b[0;31mCall signature:\u001b[0m  \u001b[0mnp\u001b[0m\u001b[0;34m.\u001b[0m\u001b[0mreshape\u001b[0m\u001b[0;34m(\u001b[0m\u001b[0;34m*\u001b[0m\u001b[0margs\u001b[0m\u001b[0;34m,\u001b[0m \u001b[0;34m**\u001b[0m\u001b[0mkwargs\u001b[0m\u001b[0;34m)\u001b[0m\u001b[0;34m\u001b[0m\u001b[0;34m\u001b[0m\u001b[0m\n",
            "\u001b[0;31mType:\u001b[0m            _ArrayFunctionDispatcher\n",
            "\u001b[0;31mString form:\u001b[0m     <function reshape at 0x10471eac0>\n",
            "\u001b[0;31mFile:\u001b[0m            /opt/homebrew/lib/python3.12/site-packages/numpy/_core/fromnumeric.py\n",
            "\u001b[0;31mDocstring:\u001b[0m      \n",
            "Gives a new shape to an array without changing its data.\n",
            "\n",
            "Parameters\n",
            "----------\n",
            "a : array_like\n",
            "    Array to be reshaped.\n",
            "newshape : int or tuple of ints\n",
            "    The new shape should be compatible with the original shape. If\n",
            "    an integer, then the result will be a 1-D array of that length.\n",
            "    One shape dimension can be -1. In this case, the value is\n",
            "    inferred from the length of the array and remaining dimensions.\n",
            "order : {'C', 'F', 'A'}, optional\n",
            "    Read the elements of `a` using this index order, and place the\n",
            "    elements into the reshaped array using this index order.  'C'\n",
            "    means to read / write the elements using C-like index order,\n",
            "    with the last axis index changing fastest, back to the first\n",
            "    axis index changing slowest. 'F' means to read / write the\n",
            "    elements using Fortran-like index order, with the first index\n",
            "    changing fastest, and the last index changing slowest. Note that\n",
            "    the 'C' and 'F' options take no account of the memory layout of\n",
            "    the underlying array, and only refer to the order of indexing.\n",
            "    'A' means to read / write the elements in Fortran-like index\n",
            "    order if `a` is Fortran *contiguous* in memory, C-like order\n",
            "    otherwise.\n",
            "\n",
            "Returns\n",
            "-------\n",
            "reshaped_array : ndarray\n",
            "    This will be a new view object if possible; otherwise, it will\n",
            "    be a copy.  Note there is no guarantee of the *memory layout* (C- or\n",
            "    Fortran- contiguous) of the returned array.\n",
            "\n",
            "See Also\n",
            "--------\n",
            "ndarray.reshape : Equivalent method.\n",
            "\n",
            "Notes\n",
            "-----\n",
            "It is not always possible to change the shape of an array without copying\n",
            "the data.\n",
            "\n",
            "The `order` keyword gives the index ordering both for *fetching* the values\n",
            "from `a`, and then *placing* the values into the output array.\n",
            "For example, let's say you have an array:\n",
            "\n",
            ">>> a = np.arange(6).reshape((3, 2))\n",
            ">>> a\n",
            "array([[0, 1],\n",
            "       [2, 3],\n",
            "       [4, 5]])\n",
            "\n",
            "You can think of reshaping as first raveling the array (using the given\n",
            "index order), then inserting the elements from the raveled array into the\n",
            "new array using the same kind of index ordering as was used for the\n",
            "raveling.\n",
            "\n",
            ">>> np.reshape(a, (2, 3)) # C-like index ordering\n",
            "array([[0, 1, 2],\n",
            "       [3, 4, 5]])\n",
            ">>> np.reshape(np.ravel(a), (2, 3)) # equivalent to C ravel then C reshape\n",
            "array([[0, 1, 2],\n",
            "       [3, 4, 5]])\n",
            ">>> np.reshape(a, (2, 3), order='F') # Fortran-like index ordering\n",
            "array([[0, 4, 3],\n",
            "       [2, 1, 5]])\n",
            ">>> np.reshape(np.ravel(a, order='F'), (2, 3), order='F')\n",
            "array([[0, 4, 3],\n",
            "       [2, 1, 5]])\n",
            "\n",
            "Examples\n",
            "--------\n",
            ">>> a = np.array([[1,2,3], [4,5,6]])\n",
            ">>> np.reshape(a, 6)\n",
            "array([1, 2, 3, 4, 5, 6])\n",
            ">>> np.reshape(a, 6, order='F')\n",
            "array([1, 4, 2, 5, 3, 6])\n",
            "\n",
            ">>> np.reshape(a, (3,-1))       # the unspecified value is inferred to be 2\n",
            "array([[1, 2],\n",
            "       [3, 4],\n",
            "       [5, 6]])\n",
            "\u001b[0;31mClass docstring:\u001b[0m\n",
            "Class to wrap functions with checks for __array_function__ overrides.\n",
            "\n",
            "All arguments are required, and can only be passed by position.\n",
            "\n",
            "Parameters\n",
            "----------\n",
            "dispatcher : function or None\n",
            "    The dispatcher function that returns a single sequence-like object\n",
            "    of all arguments relevant.  It must have the same signature (except\n",
            "    the default values) as the actual implementation.\n",
            "    If ``None``, this is a ``like=`` dispatcher and the\n",
            "    ``_ArrayFunctionDispatcher`` must be called with ``like`` as the\n",
            "    first (additional and positional) argument.\n",
            "implementation : function\n",
            "    Function that implements the operation on NumPy arrays without\n",
            "    overrides.  Arguments passed calling the ``_ArrayFunctionDispatcher``\n",
            "    will be forwarded to this (and the ``dispatcher``) as if using\n",
            "    ``*args, **kwargs``.\n",
            "\n",
            "Attributes\n",
            "----------\n",
            "_implementation : function\n",
            "    The original implementation passed in."
          ]
        }
      ],
      "source": [
        "np.reshape?"
      ]
    },
    {
      "cell_type": "code",
      "execution_count": 13,
      "metadata": {
        "colab": {
          "base_uri": "https://localhost:8080/"
        },
        "id": "9HoGDPrzVcAc",
        "outputId": "6cebfc5a-c27c-4489-d042-72850345c2d6"
      },
      "outputs": [
        {
          "data": {
            "text/plain": [
              "(array([1, 2, 3, 4, 5, 6]),\n",
              " array([[1, 2, 3],\n",
              "        [4, 5, 6]]))"
            ]
          },
          "execution_count": 13,
          "metadata": {},
          "output_type": "execute_result"
        }
      ],
      "source": [
        "x = np.array([1, 2, 3, 4, 5, 6])\n",
        "x_reshape = x.reshape(2, 3)\n",
        "x, x_reshape"
      ]
    },
    {
      "cell_type": "markdown",
      "metadata": {
        "id": "a9s5gVmcbMp1"
      },
      "source": [
        "It's important to note that x and x.reshape occupy the same memory region. We can observe this by modifying x_reshape and then observing the two..."
      ]
    },
    {
      "cell_type": "code",
      "execution_count": 14,
      "metadata": {
        "colab": {
          "base_uri": "https://localhost:8080/"
        },
        "id": "cW74oatAdIrB",
        "outputId": "1c2a39c1-c34c-435e-9cf2-00b7a20d5608"
      },
      "outputs": [
        {
          "data": {
            "text/plain": [
              "(array([99,  2,  3,  4,  5,  6]),\n",
              " array([[99,  2,  3],\n",
              "        [ 4,  5,  6]]))"
            ]
          },
          "execution_count": 14,
          "metadata": {},
          "output_type": "execute_result"
        }
      ],
      "source": [
        "x_reshape[0, 0] = 99\n",
        "x, x_reshape"
      ]
    },
    {
      "cell_type": "markdown",
      "metadata": {
        "id": "n3l8EuHKdTV7"
      },
      "source": [
        "...heyyyy this reminds me of a pointer"
      ]
    },
    {
      "cell_type": "markdown",
      "metadata": {
        "id": "kt8whdBRgzc1"
      },
      "source": [
        "Interestingly, we cannot modify a tuple!"
      ]
    },
    {
      "cell_type": "code",
      "execution_count": 15,
      "metadata": {
        "colab": {
          "base_uri": "https://localhost:8080/",
          "height": 162
        },
        "id": "ijYF3uwPg4tK",
        "outputId": "353cb944-70f8-4220-d44f-9f030247fed7"
      },
      "outputs": [
        {
          "ename": "TypeError",
          "evalue": "'tuple' object does not support item assignment",
          "output_type": "error",
          "traceback": [
            "\u001b[0;31m---------------------------------------------------------------------------\u001b[0m",
            "\u001b[0;31mTypeError\u001b[0m                                 Traceback (most recent call last)",
            "Cell \u001b[0;32mIn[15], line 2\u001b[0m\n\u001b[1;32m      1\u001b[0m tup \u001b[38;5;241m=\u001b[39m (\u001b[38;5;241m1\u001b[39m, \u001b[38;5;241m2\u001b[39m, \u001b[38;5;241m3\u001b[39m)\n\u001b[0;32m----> 2\u001b[0m \u001b[43mtup\u001b[49m\u001b[43m[\u001b[49m\u001b[38;5;241;43m0\u001b[39;49m\u001b[43m]\u001b[49m \u001b[38;5;241m=\u001b[39m \u001b[38;5;241m99\u001b[39m\n",
            "\u001b[0;31mTypeError\u001b[0m: 'tuple' object does not support item assignment"
          ]
        }
      ],
      "source": [
        "tup = (1, 2, 3)\n",
        "tup[0] = 99"
      ]
    },
    {
      "cell_type": "markdown",
      "metadata": {
        "id": "zSiqlCpmhBmL"
      },
      "source": [
        "###Generating random data\n",
        "\n"
      ]
    },
    {
      "cell_type": "markdown",
      "metadata": {
        "id": "1xVyInV1hqii"
      },
      "source": [
        "The *np.random.normal()* function generates a vector of random normal variables..."
      ]
    },
    {
      "cell_type": "code",
      "execution_count": 16,
      "metadata": {
        "id": "Z-WYhAi3Nsx6"
      },
      "outputs": [
        {
          "name": "stdout",
          "output_type": "stream",
          "text": [
            "\u001b[0;31mSignature:\u001b[0m \u001b[0mnp\u001b[0m\u001b[0;34m.\u001b[0m\u001b[0mrandom\u001b[0m\u001b[0;34m.\u001b[0m\u001b[0mnormal\u001b[0m\u001b[0;34m(\u001b[0m\u001b[0mloc\u001b[0m\u001b[0;34m=\u001b[0m\u001b[0;36m0.0\u001b[0m\u001b[0;34m,\u001b[0m \u001b[0mscale\u001b[0m\u001b[0;34m=\u001b[0m\u001b[0;36m1.0\u001b[0m\u001b[0;34m,\u001b[0m \u001b[0msize\u001b[0m\u001b[0;34m=\u001b[0m\u001b[0;32mNone\u001b[0m\u001b[0;34m)\u001b[0m\u001b[0;34m\u001b[0m\u001b[0;34m\u001b[0m\u001b[0m\n",
            "\u001b[0;31mDocstring:\u001b[0m\n",
            "normal(loc=0.0, scale=1.0, size=None)\n",
            "\n",
            "Draw random samples from a normal (Gaussian) distribution.\n",
            "\n",
            "The probability density function of the normal distribution, first\n",
            "derived by De Moivre and 200 years later by both Gauss and Laplace\n",
            "independently [2]_, is often called the bell curve because of\n",
            "its characteristic shape (see the example below).\n",
            "\n",
            "The normal distributions occurs often in nature.  For example, it\n",
            "describes the commonly occurring distribution of samples influenced\n",
            "by a large number of tiny, random disturbances, each with its own\n",
            "unique distribution [2]_.\n",
            "\n",
            ".. note::\n",
            "    New code should use the `~numpy.random.Generator.normal`\n",
            "    method of a `~numpy.random.Generator` instance instead;\n",
            "    please see the :ref:`random-quick-start`.\n",
            "\n",
            "Parameters\n",
            "----------\n",
            "loc : float or array_like of floats\n",
            "    Mean (\"centre\") of the distribution.\n",
            "scale : float or array_like of floats\n",
            "    Standard deviation (spread or \"width\") of the distribution. Must be\n",
            "    non-negative.\n",
            "size : int or tuple of ints, optional\n",
            "    Output shape.  If the given shape is, e.g., ``(m, n, k)``, then\n",
            "    ``m * n * k`` samples are drawn.  If size is ``None`` (default),\n",
            "    a single value is returned if ``loc`` and ``scale`` are both scalars.\n",
            "    Otherwise, ``np.broadcast(loc, scale).size`` samples are drawn.\n",
            "\n",
            "Returns\n",
            "-------\n",
            "out : ndarray or scalar\n",
            "    Drawn samples from the parameterized normal distribution.\n",
            "\n",
            "See Also\n",
            "--------\n",
            "scipy.stats.norm : probability density function, distribution or\n",
            "    cumulative density function, etc.\n",
            "random.Generator.normal: which should be used for new code.\n",
            "\n",
            "Notes\n",
            "-----\n",
            "The probability density for the Gaussian distribution is\n",
            "\n",
            ".. math:: p(x) = \\frac{1}{\\sqrt{ 2 \\pi \\sigma^2 }}\n",
            "                 e^{ - \\frac{ (x - \\mu)^2 } {2 \\sigma^2} },\n",
            "\n",
            "where :math:`\\mu` is the mean and :math:`\\sigma` the standard\n",
            "deviation. The square of the standard deviation, :math:`\\sigma^2`,\n",
            "is called the variance.\n",
            "\n",
            "The function has its peak at the mean, and its \"spread\" increases with\n",
            "the standard deviation (the function reaches 0.607 times its maximum at\n",
            ":math:`x + \\sigma` and :math:`x - \\sigma` [2]_).  This implies that\n",
            "normal is more likely to return samples lying close to the mean, rather\n",
            "than those far away.\n",
            "\n",
            "References\n",
            "----------\n",
            ".. [1] Wikipedia, \"Normal distribution\",\n",
            "       https://en.wikipedia.org/wiki/Normal_distribution\n",
            ".. [2] P. R. Peebles Jr., \"Central Limit Theorem\" in \"Probability,\n",
            "       Random Variables and Random Signal Principles\", 4th ed., 2001,\n",
            "       pp. 51, 51, 125.\n",
            "\n",
            "Examples\n",
            "--------\n",
            "Draw samples from the distribution:\n",
            "\n",
            ">>> mu, sigma = 0, 0.1 # mean and standard deviation\n",
            ">>> s = np.random.normal(mu, sigma, 1000)\n",
            "\n",
            "Verify the mean and the variance:\n",
            "\n",
            ">>> abs(mu - np.mean(s))\n",
            "0.0  # may vary\n",
            "\n",
            ">>> abs(sigma - np.std(s, ddof=1))\n",
            "0.1  # may vary\n",
            "\n",
            "Display the histogram of the samples, along with\n",
            "the probability density function:\n",
            "\n",
            ">>> import matplotlib.pyplot as plt\n",
            ">>> count, bins, ignored = plt.hist(s, 30, density=True)\n",
            ">>> plt.plot(bins, 1/(sigma * np.sqrt(2 * np.pi)) *\n",
            "...                np.exp( - (bins - mu)**2 / (2 * sigma**2) ),\n",
            "...          linewidth=2, color='r')\n",
            ">>> plt.show()\n",
            "\n",
            "Two-by-four array of samples from the normal distribution with\n",
            "mean 3 and standard deviation 2.5:\n",
            "\n",
            ">>> np.random.normal(3, 2.5, size=(2, 4))\n",
            "array([[-4.49401501,  4.00950034, -1.81814867,  7.29718677],   # random\n",
            "       [ 0.39924804,  4.68456316,  4.99394529,  4.84057254]])  # random\n",
            "\u001b[0;31mType:\u001b[0m      method"
          ]
        }
      ],
      "source": [
        "np.random.normal?"
      ]
    },
    {
      "cell_type": "markdown",
      "metadata": {
        "id": "x6LI5oIiN9fn"
      },
      "source": [
        "From the generated Docstring's first line, we see\n",
        "```\n",
        "normal(loc=0.0, scale=1.0, size=None)\n",
        "```\n",
        "This means that the function, by default, will generate random normal variable(s) with a mean (loc) of 0 and a standard deviation (scale) of 1. Furthermore, a single random variable will be generated unless *size*'s argument is changed."
      ]
    },
    {
      "cell_type": "markdown",
      "metadata": {
        "id": "BqmCOHjiOibn"
      },
      "source": [
        "We will now generate 50 random independent variables from a *N*(0, 1) distribution..."
      ]
    },
    {
      "cell_type": "code",
      "execution_count": 17,
      "metadata": {
        "colab": {
          "base_uri": "https://localhost:8080/"
        },
        "id": "2ElfjOxYOvaA",
        "outputId": "d3e1e99b-5e6f-4940-d9fb-f25b180bf645"
      },
      "outputs": [
        {
          "data": {
            "text/plain": [
              "array([-0.2988098 ,  1.13656839, -0.83604427, -1.17513578,  0.24200445,\n",
              "        0.72921665,  0.46636153,  0.07944899, -1.06895515, -1.74605688,\n",
              "        0.86953468, -0.17923164, -0.65397013,  1.02163528, -1.44456498,\n",
              "        1.04618493,  0.16760689, -0.30878289, -1.80996323,  0.92466979,\n",
              "       -1.01176653,  0.70194844, -0.50531993, -2.24523804, -1.01634921,\n",
              "       -0.84611545,  1.70162235,  0.46438403,  0.3315504 , -0.96257138,\n",
              "       -0.82975303, -1.17909795, -0.4110934 , -0.56816263,  0.49645461,\n",
              "       -0.96891657, -0.20867109, -0.23443388,  2.02355954,  1.16384657,\n",
              "        0.71913484,  0.81712338,  0.06378844, -0.37956814, -1.30736696,\n",
              "        0.95791421,  0.56640903, -2.22512242,  1.39231852,  0.35745135])"
            ]
          },
          "execution_count": 17,
          "metadata": {},
          "output_type": "execute_result"
        }
      ],
      "source": [
        "x = np.random.normal(0, 1, 50)\n",
        "x"
      ]
    },
    {
      "cell_type": "markdown",
      "metadata": {
        "id": "pf5I1GtqOz6V"
      },
      "source": [
        "We can create an array y by adding an independent *N*(0, 1) random variable to each element of *x*..."
      ]
    },
    {
      "cell_type": "code",
      "execution_count": 18,
      "metadata": {
        "colab": {
          "base_uri": "https://localhost:8080/"
        },
        "id": "5lMBPEUlOza-",
        "outputId": "3cac313b-040d-425f-b3a9-19de6bfb68d3"
      },
      "outputs": [
        {
          "data": {
            "text/plain": [
              "array([-2.19266   ,  0.52347328,  0.69358069, -1.53201857, -0.29897269,\n",
              "       -1.14301971,  0.23862674,  0.12377136, -1.09668339, -1.74228425,\n",
              "        2.10149563, -0.35872829, -1.17419925,  1.20733831, -2.26140935,\n",
              "        0.36646634,  0.42552193, -0.55995585, -2.26371557,  1.79692803,\n",
              "        0.43505743,  0.58417684, -2.18837782, -1.6002546 , -2.2356637 ,\n",
              "       -1.44003006,  2.51883067, -0.19647841,  1.4197703 , -1.63774918,\n",
              "       -1.63155662, -0.2123628 , -1.23378945, -0.58463172, -0.71458969,\n",
              "       -0.65197011, -0.23129562,  0.1526716 ,  2.43852695,  1.49425987,\n",
              "       -0.03930412,  0.0736911 , -0.64062332, -1.2937482 , -0.1610559 ,\n",
              "        0.03315499,  0.41678486, -0.75582846,  1.65162104, -0.21623225])"
            ]
          },
          "execution_count": 18,
          "metadata": {},
          "output_type": "execute_result"
        }
      ],
      "source": [
        "y = x + np.random.normal(0, 1, 50)\n",
        "y"
      ]
    },
    {
      "cell_type": "markdown",
      "metadata": {
        "id": "fZhzcC47PAsC"
      },
      "source": [
        "We can calulate the correlation matrix between *x* and *y* using the *np.corrcoef()* function. The off-diagonal elements gives the correlation between *x* and *y*."
      ]
    },
    {
      "cell_type": "code",
      "execution_count": 19,
      "metadata": {
        "id": "kr69O-XhPKWn"
      },
      "outputs": [
        {
          "name": "stdout",
          "output_type": "stream",
          "text": [
            "\u001b[0;31mSignature:\u001b[0m      \n",
            "\u001b[0mnp\u001b[0m\u001b[0;34m.\u001b[0m\u001b[0mcorrcoef\u001b[0m\u001b[0;34m(\u001b[0m\u001b[0;34m\u001b[0m\n",
            "\u001b[0;34m\u001b[0m    \u001b[0mx\u001b[0m\u001b[0;34m,\u001b[0m\u001b[0;34m\u001b[0m\n",
            "\u001b[0;34m\u001b[0m    \u001b[0my\u001b[0m\u001b[0;34m=\u001b[0m\u001b[0;32mNone\u001b[0m\u001b[0;34m,\u001b[0m\u001b[0;34m\u001b[0m\n",
            "\u001b[0;34m\u001b[0m    \u001b[0mrowvar\u001b[0m\u001b[0;34m=\u001b[0m\u001b[0;32mTrue\u001b[0m\u001b[0;34m,\u001b[0m\u001b[0;34m\u001b[0m\n",
            "\u001b[0;34m\u001b[0m    \u001b[0mbias\u001b[0m\u001b[0;34m=\u001b[0m\u001b[0;34m<\u001b[0m\u001b[0mno\u001b[0m \u001b[0mvalue\u001b[0m\u001b[0;34m>\u001b[0m\u001b[0;34m,\u001b[0m\u001b[0;34m\u001b[0m\n",
            "\u001b[0;34m\u001b[0m    \u001b[0mddof\u001b[0m\u001b[0;34m=\u001b[0m\u001b[0;34m<\u001b[0m\u001b[0mno\u001b[0m \u001b[0mvalue\u001b[0m\u001b[0;34m>\u001b[0m\u001b[0;34m,\u001b[0m\u001b[0;34m\u001b[0m\n",
            "\u001b[0;34m\u001b[0m    \u001b[0;34m*\u001b[0m\u001b[0;34m,\u001b[0m\u001b[0;34m\u001b[0m\n",
            "\u001b[0;34m\u001b[0m    \u001b[0mdtype\u001b[0m\u001b[0;34m=\u001b[0m\u001b[0;32mNone\u001b[0m\u001b[0;34m,\u001b[0m\u001b[0;34m\u001b[0m\n",
            "\u001b[0;34m\u001b[0m\u001b[0;34m)\u001b[0m\u001b[0;34m\u001b[0m\u001b[0;34m\u001b[0m\u001b[0m\n",
            "\u001b[0;31mCall signature:\u001b[0m  \u001b[0mnp\u001b[0m\u001b[0;34m.\u001b[0m\u001b[0mcorrcoef\u001b[0m\u001b[0;34m(\u001b[0m\u001b[0;34m*\u001b[0m\u001b[0margs\u001b[0m\u001b[0;34m,\u001b[0m \u001b[0;34m**\u001b[0m\u001b[0mkwargs\u001b[0m\u001b[0;34m)\u001b[0m\u001b[0;34m\u001b[0m\u001b[0;34m\u001b[0m\u001b[0m\n",
            "\u001b[0;31mType:\u001b[0m            _ArrayFunctionDispatcher\n",
            "\u001b[0;31mString form:\u001b[0m     <function corrcoef at 0x109b65120>\n",
            "\u001b[0;31mFile:\u001b[0m            /opt/homebrew/lib/python3.12/site-packages/numpy/lib/_function_base_impl.py\n",
            "\u001b[0;31mDocstring:\u001b[0m      \n",
            "Return Pearson product-moment correlation coefficients.\n",
            "\n",
            "Please refer to the documentation for `cov` for more detail.  The\n",
            "relationship between the correlation coefficient matrix, `R`, and the\n",
            "covariance matrix, `C`, is\n",
            "\n",
            ".. math:: R_{ij} = \\frac{ C_{ij} } { \\sqrt{ C_{ii} C_{jj} } }\n",
            "\n",
            "The values of `R` are between -1 and 1, inclusive.\n",
            "\n",
            "Parameters\n",
            "----------\n",
            "x : array_like\n",
            "    A 1-D or 2-D array containing multiple variables and observations.\n",
            "    Each row of `x` represents a variable, and each column a single\n",
            "    observation of all those variables. Also see `rowvar` below.\n",
            "y : array_like, optional\n",
            "    An additional set of variables and observations. `y` has the same\n",
            "    shape as `x`.\n",
            "rowvar : bool, optional\n",
            "    If `rowvar` is True (default), then each row represents a\n",
            "    variable, with observations in the columns. Otherwise, the relationship\n",
            "    is transposed: each column represents a variable, while the rows\n",
            "    contain observations.\n",
            "bias : _NoValue, optional\n",
            "    Has no effect, do not use.\n",
            "\n",
            "    .. deprecated:: 1.10.0\n",
            "ddof : _NoValue, optional\n",
            "    Has no effect, do not use.\n",
            "\n",
            "    .. deprecated:: 1.10.0\n",
            "dtype : data-type, optional\n",
            "    Data-type of the result. By default, the return data-type will have\n",
            "    at least `numpy.float64` precision.\n",
            "\n",
            "    .. versionadded:: 1.20\n",
            "\n",
            "Returns\n",
            "-------\n",
            "R : ndarray\n",
            "    The correlation coefficient matrix of the variables.\n",
            "\n",
            "See Also\n",
            "--------\n",
            "cov : Covariance matrix\n",
            "\n",
            "Notes\n",
            "-----\n",
            "Due to floating point rounding the resulting array may not be Hermitian,\n",
            "the diagonal elements may not be 1, and the elements may not satisfy the\n",
            "inequality abs(a) <= 1. The real and imaginary parts are clipped to the\n",
            "interval [-1,  1] in an attempt to improve on that situation but is not\n",
            "much help in the complex case.\n",
            "\n",
            "This function accepts but discards arguments `bias` and `ddof`.  This is\n",
            "for backwards compatibility with previous versions of this function.  These\n",
            "arguments had no effect on the return values of the function and can be\n",
            "safely ignored in this and previous versions of numpy.\n",
            "\n",
            "Examples\n",
            "--------\n",
            "In this example we generate two random arrays, ``xarr`` and ``yarr``, and\n",
            "compute the row-wise and column-wise Pearson correlation coefficients,\n",
            "``R``. Since ``rowvar`` is  true by  default, we first find the row-wise\n",
            "Pearson correlation coefficients between the variables of ``xarr``.\n",
            "\n",
            ">>> import numpy as np\n",
            ">>> rng = np.random.default_rng(seed=42)\n",
            ">>> xarr = rng.random((3, 3))\n",
            ">>> xarr\n",
            "array([[0.77395605, 0.43887844, 0.85859792],\n",
            "       [0.69736803, 0.09417735, 0.97562235],\n",
            "       [0.7611397 , 0.78606431, 0.12811363]])\n",
            ">>> R1 = np.corrcoef(xarr)\n",
            ">>> R1\n",
            "array([[ 1.        ,  0.99256089, -0.68080986],\n",
            "       [ 0.99256089,  1.        , -0.76492172],\n",
            "       [-0.68080986, -0.76492172,  1.        ]])\n",
            "\n",
            "If we add another set of variables and observations ``yarr``, we can\n",
            "compute the row-wise Pearson correlation coefficients between the\n",
            "variables in ``xarr`` and ``yarr``.\n",
            "\n",
            ">>> yarr = rng.random((3, 3))\n",
            ">>> yarr\n",
            "array([[0.45038594, 0.37079802, 0.92676499],\n",
            "       [0.64386512, 0.82276161, 0.4434142 ],\n",
            "       [0.22723872, 0.55458479, 0.06381726]])\n",
            ">>> R2 = np.corrcoef(xarr, yarr)\n",
            ">>> R2\n",
            "array([[ 1.        ,  0.99256089, -0.68080986,  0.75008178, -0.934284  ,\n",
            "        -0.99004057],\n",
            "       [ 0.99256089,  1.        , -0.76492172,  0.82502011, -0.97074098,\n",
            "        -0.99981569],\n",
            "       [-0.68080986, -0.76492172,  1.        , -0.99507202,  0.89721355,\n",
            "         0.77714685],\n",
            "       [ 0.75008178,  0.82502011, -0.99507202,  1.        , -0.93657855,\n",
            "        -0.83571711],\n",
            "       [-0.934284  , -0.97074098,  0.89721355, -0.93657855,  1.        ,\n",
            "         0.97517215],\n",
            "       [-0.99004057, -0.99981569,  0.77714685, -0.83571711,  0.97517215,\n",
            "         1.        ]])\n",
            "\n",
            "Finally if we use the option ``rowvar=False``, the columns are now\n",
            "being treated as the variables and we will find the column-wise Pearson\n",
            "correlation coefficients between variables in ``xarr`` and ``yarr``.\n",
            "\n",
            ">>> R3 = np.corrcoef(xarr, yarr, rowvar=False)\n",
            ">>> R3\n",
            "array([[ 1.        ,  0.77598074, -0.47458546, -0.75078643, -0.9665554 ,\n",
            "         0.22423734],\n",
            "       [ 0.77598074,  1.        , -0.92346708, -0.99923895, -0.58826587,\n",
            "        -0.44069024],\n",
            "       [-0.47458546, -0.92346708,  1.        ,  0.93773029,  0.23297648,\n",
            "         0.75137473],\n",
            "       [-0.75078643, -0.99923895,  0.93773029,  1.        ,  0.55627469,\n",
            "         0.47536961],\n",
            "       [-0.9665554 , -0.58826587,  0.23297648,  0.55627469,  1.        ,\n",
            "        -0.46666491],\n",
            "       [ 0.22423734, -0.44069024,  0.75137473,  0.47536961, -0.46666491,\n",
            "         1.        ]])\n",
            "\u001b[0;31mClass docstring:\u001b[0m\n",
            "Class to wrap functions with checks for __array_function__ overrides.\n",
            "\n",
            "All arguments are required, and can only be passed by position.\n",
            "\n",
            "Parameters\n",
            "----------\n",
            "dispatcher : function or None\n",
            "    The dispatcher function that returns a single sequence-like object\n",
            "    of all arguments relevant.  It must have the same signature (except\n",
            "    the default values) as the actual implementation.\n",
            "    If ``None``, this is a ``like=`` dispatcher and the\n",
            "    ``_ArrayFunctionDispatcher`` must be called with ``like`` as the\n",
            "    first (additional and positional) argument.\n",
            "implementation : function\n",
            "    Function that implements the operation on NumPy arrays without\n",
            "    overrides.  Arguments passed calling the ``_ArrayFunctionDispatcher``\n",
            "    will be forwarded to this (and the ``dispatcher``) as if using\n",
            "    ``*args, **kwargs``.\n",
            "\n",
            "Attributes\n",
            "----------\n",
            "_implementation : function\n",
            "    The original implementation passed in."
          ]
        }
      ],
      "source": [
        "np.corrcoef?"
      ]
    },
    {
      "cell_type": "code",
      "execution_count": 20,
      "metadata": {
        "colab": {
          "base_uri": "https://localhost:8080/"
        },
        "id": "afLpNITgPOG_",
        "outputId": "2fbd4bba-82db-47b7-ad66-64c7bd268cdb"
      },
      "outputs": [
        {
          "data": {
            "text/plain": [
              "array([[1.        , 0.74450268],\n",
              "       [0.74450268, 1.        ]])"
            ]
          },
          "execution_count": 20,
          "metadata": {},
          "output_type": "execute_result"
        }
      ],
      "source": [
        "np.corrcoef(x, y)"
      ]
    },
    {
      "cell_type": "markdown",
      "metadata": {
        "id": "GMti0vADPWhV"
      },
      "source": [
        "In order to ensure that the code provides reproducible results, we can set the random seed using *np.random.default_rng()*."
      ]
    },
    {
      "cell_type": "code",
      "execution_count": 21,
      "metadata": {
        "id": "dixsJSyvPdOz"
      },
      "outputs": [
        {
          "name": "stdout",
          "output_type": "stream",
          "text": [
            "\u001b[0;31mSignature:\u001b[0m      \u001b[0mnp\u001b[0m\u001b[0;34m.\u001b[0m\u001b[0mrandom\u001b[0m\u001b[0;34m.\u001b[0m\u001b[0mdefault_rng\u001b[0m\u001b[0;34m(\u001b[0m\u001b[0mseed\u001b[0m\u001b[0;34m=\u001b[0m\u001b[0;32mNone\u001b[0m\u001b[0;34m)\u001b[0m\u001b[0;34m\u001b[0m\u001b[0;34m\u001b[0m\u001b[0m\n",
            "\u001b[0;31mCall signature:\u001b[0m \u001b[0mnp\u001b[0m\u001b[0;34m.\u001b[0m\u001b[0mrandom\u001b[0m\u001b[0;34m.\u001b[0m\u001b[0mdefault_rng\u001b[0m\u001b[0;34m(\u001b[0m\u001b[0;34m*\u001b[0m\u001b[0margs\u001b[0m\u001b[0;34m,\u001b[0m \u001b[0;34m**\u001b[0m\u001b[0mkwargs\u001b[0m\u001b[0;34m)\u001b[0m\u001b[0;34m\u001b[0m\u001b[0;34m\u001b[0m\u001b[0m\n",
            "\u001b[0;31mType:\u001b[0m           cython_function_or_method\n",
            "\u001b[0;31mString form:\u001b[0m    <cyfunction default_rng at 0x10a12fe00>\n",
            "\u001b[0;31mDocstring:\u001b[0m     \n",
            "default_rng(seed=None)\n",
            "Construct a new Generator with the default BitGenerator (PCG64).\n",
            "\n",
            "    Parameters\n",
            "    ----------\n",
            "    seed : {None, int, array_like[ints], SeedSequence, BitGenerator, Generator}, optional\n",
            "        A seed to initialize the `BitGenerator`. If None, then fresh,\n",
            "        unpredictable entropy will be pulled from the OS. If an ``int`` or\n",
            "        ``array_like[ints]`` is passed, then all values must be non-negative and will be\n",
            "        passed to `SeedSequence` to derive the initial `BitGenerator` state. One may also\n",
            "        pass in a `SeedSequence` instance.\n",
            "        Additionally, when passed a `BitGenerator`, it will be wrapped by\n",
            "        `Generator`. If passed a `Generator`, it will be returned unaltered.\n",
            "\n",
            "    Returns\n",
            "    -------\n",
            "    Generator\n",
            "        The initialized generator object.\n",
            "\n",
            "    Notes\n",
            "    -----\n",
            "    If ``seed`` is not a `BitGenerator` or a `Generator`, a new `BitGenerator`\n",
            "    is instantiated. This function does not manage a default global instance.\n",
            "\n",
            "    See :ref:`seeding_and_entropy` for more information about seeding.\n",
            "    \n",
            "    Examples\n",
            "    --------\n",
            "    `default_rng` is the recommended constructor for the random number class\n",
            "    `Generator`. Here are several ways we can construct a random \n",
            "    number generator using `default_rng` and the `Generator` class. \n",
            "    \n",
            "    Here we use `default_rng` to generate a random float:\n",
            " \n",
            "    >>> import numpy as np\n",
            "    >>> rng = np.random.default_rng(12345)\n",
            "    >>> print(rng)\n",
            "    Generator(PCG64)\n",
            "    >>> rfloat = rng.random()\n",
            "    >>> rfloat\n",
            "    0.22733602246716966\n",
            "    >>> type(rfloat)\n",
            "    <class 'float'>\n",
            "     \n",
            "    Here we use `default_rng` to generate 3 random integers between 0 \n",
            "    (inclusive) and 10 (exclusive):\n",
            "        \n",
            "    >>> import numpy as np\n",
            "    >>> rng = np.random.default_rng(12345)\n",
            "    >>> rints = rng.integers(low=0, high=10, size=3)\n",
            "    >>> rints\n",
            "    array([6, 2, 7])\n",
            "    >>> type(rints[0])\n",
            "    <class 'numpy.int64'>\n",
            "    \n",
            "    Here we specify a seed so that we have reproducible results:\n",
            "    \n",
            "    >>> import numpy as np\n",
            "    >>> rng = np.random.default_rng(seed=42)\n",
            "    >>> print(rng)\n",
            "    Generator(PCG64)\n",
            "    >>> arr1 = rng.random((3, 3))\n",
            "    >>> arr1\n",
            "    array([[0.77395605, 0.43887844, 0.85859792],\n",
            "           [0.69736803, 0.09417735, 0.97562235],\n",
            "           [0.7611397 , 0.78606431, 0.12811363]])\n",
            "\n",
            "    If we exit and restart our Python interpreter, we'll see that we\n",
            "    generate the same random numbers again:\n",
            "\n",
            "    >>> import numpy as np\n",
            "    >>> rng = np.random.default_rng(seed=42)\n",
            "    >>> arr2 = rng.random((3, 3))\n",
            "    >>> arr2\n",
            "    array([[0.77395605, 0.43887844, 0.85859792],\n",
            "           [0.69736803, 0.09417735, 0.97562235],\n",
            "           [0.7611397 , 0.78606431, 0.12811363]])\n",
            "\n",
            "    "
          ]
        }
      ],
      "source": [
        "np.random.default_rng?"
      ]
    },
    {
      "cell_type": "code",
      "execution_count": 22,
      "metadata": {
        "id": "PG0OOTWTP4mM"
      },
      "outputs": [],
      "source": [
        "rng = np.random.default_rng(3)"
      ]
    },
    {
      "cell_type": "markdown",
      "metadata": {
        "id": "t_hYHpIXPvBh"
      },
      "source": [
        "We can use the *np.mean()*, *np.var()*, and *np.std()* functions to compute the mean, variance, and standard deviation of arrays, respectively."
      ]
    },
    {
      "cell_type": "code",
      "execution_count": 23,
      "metadata": {
        "id": "gQWXMBknQUbW"
      },
      "outputs": [
        {
          "name": "stdout",
          "output_type": "stream",
          "text": [
            "\u001b[0;31mSignature:\u001b[0m      \n",
            "\u001b[0mnp\u001b[0m\u001b[0;34m.\u001b[0m\u001b[0mmean\u001b[0m\u001b[0;34m(\u001b[0m\u001b[0;34m\u001b[0m\n",
            "\u001b[0;34m\u001b[0m    \u001b[0ma\u001b[0m\u001b[0;34m,\u001b[0m\u001b[0;34m\u001b[0m\n",
            "\u001b[0;34m\u001b[0m    \u001b[0maxis\u001b[0m\u001b[0;34m=\u001b[0m\u001b[0;32mNone\u001b[0m\u001b[0;34m,\u001b[0m\u001b[0;34m\u001b[0m\n",
            "\u001b[0;34m\u001b[0m    \u001b[0mdtype\u001b[0m\u001b[0;34m=\u001b[0m\u001b[0;32mNone\u001b[0m\u001b[0;34m,\u001b[0m\u001b[0;34m\u001b[0m\n",
            "\u001b[0;34m\u001b[0m    \u001b[0mout\u001b[0m\u001b[0;34m=\u001b[0m\u001b[0;32mNone\u001b[0m\u001b[0;34m,\u001b[0m\u001b[0;34m\u001b[0m\n",
            "\u001b[0;34m\u001b[0m    \u001b[0mkeepdims\u001b[0m\u001b[0;34m=\u001b[0m\u001b[0;34m<\u001b[0m\u001b[0mno\u001b[0m \u001b[0mvalue\u001b[0m\u001b[0;34m>\u001b[0m\u001b[0;34m,\u001b[0m\u001b[0;34m\u001b[0m\n",
            "\u001b[0;34m\u001b[0m    \u001b[0;34m*\u001b[0m\u001b[0;34m,\u001b[0m\u001b[0;34m\u001b[0m\n",
            "\u001b[0;34m\u001b[0m    \u001b[0mwhere\u001b[0m\u001b[0;34m=\u001b[0m\u001b[0;34m<\u001b[0m\u001b[0mno\u001b[0m \u001b[0mvalue\u001b[0m\u001b[0;34m>\u001b[0m\u001b[0;34m,\u001b[0m\u001b[0;34m\u001b[0m\n",
            "\u001b[0;34m\u001b[0m\u001b[0;34m)\u001b[0m\u001b[0;34m\u001b[0m\u001b[0;34m\u001b[0m\u001b[0m\n",
            "\u001b[0;31mCall signature:\u001b[0m  \u001b[0mnp\u001b[0m\u001b[0;34m.\u001b[0m\u001b[0mmean\u001b[0m\u001b[0;34m(\u001b[0m\u001b[0;34m*\u001b[0m\u001b[0margs\u001b[0m\u001b[0;34m,\u001b[0m \u001b[0;34m**\u001b[0m\u001b[0mkwargs\u001b[0m\u001b[0;34m)\u001b[0m\u001b[0;34m\u001b[0m\u001b[0;34m\u001b[0m\u001b[0m\n",
            "\u001b[0;31mType:\u001b[0m            _ArrayFunctionDispatcher\n",
            "\u001b[0;31mString form:\u001b[0m     <function mean at 0x1047518a0>\n",
            "\u001b[0;31mFile:\u001b[0m            /opt/homebrew/lib/python3.12/site-packages/numpy/_core/fromnumeric.py\n",
            "\u001b[0;31mDocstring:\u001b[0m      \n",
            "Compute the arithmetic mean along the specified axis.\n",
            "\n",
            "Returns the average of the array elements.  The average is taken over\n",
            "the flattened array by default, otherwise over the specified axis.\n",
            "`float64` intermediate and return values are used for integer inputs.\n",
            "\n",
            "Parameters\n",
            "----------\n",
            "a : array_like\n",
            "    Array containing numbers whose mean is desired. If `a` is not an\n",
            "    array, a conversion is attempted.\n",
            "axis : None or int or tuple of ints, optional\n",
            "    Axis or axes along which the means are computed. The default is to\n",
            "    compute the mean of the flattened array.\n",
            "\n",
            "    .. versionadded:: 1.7.0\n",
            "\n",
            "    If this is a tuple of ints, a mean is performed over multiple axes,\n",
            "    instead of a single axis or all the axes as before.\n",
            "dtype : data-type, optional\n",
            "    Type to use in computing the mean.  For integer inputs, the default\n",
            "    is `float64`; for floating point inputs, it is the same as the\n",
            "    input dtype.\n",
            "out : ndarray, optional\n",
            "    Alternate output array in which to place the result.  The default\n",
            "    is ``None``; if provided, it must have the same shape as the\n",
            "    expected output, but the type will be cast if necessary.\n",
            "    See :ref:`ufuncs-output-type` for more details.\n",
            "    See :ref:`ufuncs-output-type` for more details.\n",
            "\n",
            "keepdims : bool, optional\n",
            "    If this is set to True, the axes which are reduced are left\n",
            "    in the result as dimensions with size one. With this option,\n",
            "    the result will broadcast correctly against the input array.\n",
            "\n",
            "    If the default value is passed, then `keepdims` will not be\n",
            "    passed through to the `mean` method of sub-classes of\n",
            "    `ndarray`, however any non-default value will be.  If the\n",
            "    sub-class' method does not implement `keepdims` any\n",
            "    exceptions will be raised.\n",
            "\n",
            "where : array_like of bool, optional\n",
            "    Elements to include in the mean. See `~numpy.ufunc.reduce` for details.\n",
            "\n",
            "    .. versionadded:: 1.20.0\n",
            "\n",
            "Returns\n",
            "-------\n",
            "m : ndarray, see dtype parameter above\n",
            "    If `out=None`, returns a new array containing the mean values,\n",
            "    otherwise a reference to the output array is returned.\n",
            "\n",
            "See Also\n",
            "--------\n",
            "average : Weighted average\n",
            "std, var, nanmean, nanstd, nanvar\n",
            "\n",
            "Notes\n",
            "-----\n",
            "The arithmetic mean is the sum of the elements along the axis divided\n",
            "by the number of elements.\n",
            "\n",
            "Note that for floating-point input, the mean is computed using the\n",
            "same precision the input has.  Depending on the input data, this can\n",
            "cause the results to be inaccurate, especially for `float32` (see\n",
            "example below).  Specifying a higher-precision accumulator using the\n",
            "`dtype` keyword can alleviate this issue.\n",
            "\n",
            "By default, `float16` results are computed using `float32` intermediates\n",
            "for extra precision.\n",
            "\n",
            "Examples\n",
            "--------\n",
            ">>> a = np.array([[1, 2], [3, 4]])\n",
            ">>> np.mean(a)\n",
            "2.5\n",
            ">>> np.mean(a, axis=0)\n",
            "array([2., 3.])\n",
            ">>> np.mean(a, axis=1)\n",
            "array([1.5, 3.5])\n",
            "\n",
            "In single precision, `mean` can be inaccurate:\n",
            "\n",
            ">>> a = np.zeros((2, 512*512), dtype=np.float32)\n",
            ">>> a[0, :] = 1.0\n",
            ">>> a[1, :] = 0.1\n",
            ">>> np.mean(a)\n",
            "0.54999924\n",
            "\n",
            "Computing the mean in float64 is more accurate:\n",
            "\n",
            ">>> np.mean(a, dtype=np.float64)\n",
            "0.55000000074505806 # may vary\n",
            "\n",
            "Specifying a where argument:\n",
            "\n",
            ">>> a = np.array([[5, 9, 13], [14, 10, 12], [11, 15, 19]])\n",
            ">>> np.mean(a)\n",
            "12.0\n",
            ">>> np.mean(a, where=[[True], [False], [False]])\n",
            "9.0\n",
            "\u001b[0;31mClass docstring:\u001b[0m\n",
            "Class to wrap functions with checks for __array_function__ overrides.\n",
            "\n",
            "All arguments are required, and can only be passed by position.\n",
            "\n",
            "Parameters\n",
            "----------\n",
            "dispatcher : function or None\n",
            "    The dispatcher function that returns a single sequence-like object\n",
            "    of all arguments relevant.  It must have the same signature (except\n",
            "    the default values) as the actual implementation.\n",
            "    If ``None``, this is a ``like=`` dispatcher and the\n",
            "    ``_ArrayFunctionDispatcher`` must be called with ``like`` as the\n",
            "    first (additional and positional) argument.\n",
            "implementation : function\n",
            "    Function that implements the operation on NumPy arrays without\n",
            "    overrides.  Arguments passed calling the ``_ArrayFunctionDispatcher``\n",
            "    will be forwarded to this (and the ``dispatcher``) as if using\n",
            "    ``*args, **kwargs``.\n",
            "\n",
            "Attributes\n",
            "----------\n",
            "_implementation : function\n",
            "    The original implementation passed in."
          ]
        }
      ],
      "source": [
        "np.mean?"
      ]
    },
    {
      "cell_type": "code",
      "execution_count": null,
      "metadata": {
        "colab": {
          "base_uri": "https://localhost:8080/"
        },
        "id": "oypHrDkRPuw7",
        "outputId": "4ce1fc64-c8a8-4342-bdbe-c15b96561b91"
      },
      "outputs": [],
      "source": [
        "x = rng.standard_normal(10)\n",
        "np.mean(x), x.mean()"
      ]
    },
    {
      "cell_type": "markdown",
      "metadata": {
        "id": "_WwyN6x4Qght"
      },
      "source": [
        "By default, *np.var()* divides by the sample size *n* rather than *n - 1*. For more information, we should inspect the *ddof*, or degrees of freedom, argument seen in *np.var?*"
      ]
    },
    {
      "cell_type": "code",
      "execution_count": null,
      "metadata": {
        "id": "9GhDEwk6QcPJ"
      },
      "outputs": [],
      "source": [
        "np.var?"
      ]
    },
    {
      "cell_type": "markdown",
      "metadata": {
        "id": "zxb5EI50Qy75"
      },
      "source": [
        "By default, *ddof* is set to zero."
      ]
    },
    {
      "cell_type": "code",
      "execution_count": null,
      "metadata": {
        "colab": {
          "base_uri": "https://localhost:8080/"
        },
        "id": "3npLKHsQQJBb",
        "outputId": "420e6c6d-173b-4b24-d7fd-b8d51b78f9ef"
      },
      "outputs": [],
      "source": [
        "np.var(x), x.var(), np.mean((y - y.mean())**2)"
      ]
    },
    {
      "cell_type": "code",
      "execution_count": null,
      "metadata": {
        "id": "u7vDIFSzQ6wi"
      },
      "outputs": [],
      "source": [
        "np.std?"
      ]
    },
    {
      "cell_type": "code",
      "execution_count": null,
      "metadata": {
        "colab": {
          "base_uri": "https://localhost:8080/"
        },
        "id": "Vcdh7ZZYQ8T1",
        "outputId": "df6474be-0db4-461a-f906-440b5712943e"
      },
      "outputs": [],
      "source": [
        "np.sqrt(np.var(y)), np.std(y)"
      ]
    },
    {
      "cell_type": "markdown",
      "metadata": {
        "id": "GgAsFFS8RD-y"
      },
      "source": [
        "We can also apply the *np.mean()*, *np.var()*, and *np.std()* functions to the rows and columns of a matrix..."
      ]
    },
    {
      "cell_type": "code",
      "execution_count": null,
      "metadata": {
        "colab": {
          "base_uri": "https://localhost:8080/"
        },
        "id": "_Oo-dBqMRRpc",
        "outputId": "8f033db1-9e38-4e09-b724-d5e741a70e3a"
      },
      "outputs": [],
      "source": [
        "X = rng.standard_normal((5, 5))\n",
        "X"
      ]
    },
    {
      "cell_type": "markdown",
      "metadata": {
        "id": "dM60PifQRYD4"
      },
      "source": [
        "Arrays are row-major ordered, so the first axis (*axis=0*) refers to its rows. This argument is passed into the *mean()* method for the object X..."
      ]
    },
    {
      "cell_type": "code",
      "execution_count": null,
      "metadata": {
        "colab": {
          "base_uri": "https://localhost:8080/"
        },
        "id": "3LRxlr8ARi2g",
        "outputId": "fb4d6409-9878-41a1-b046-8bc5e57b0538"
      },
      "outputs": [],
      "source": [
        "X.mean(axis=0)"
      ]
    },
    {
      "cell_type": "markdown",
      "metadata": {
        "id": "eoNGPXK8Rp13"
      },
      "source": [
        "We can also just pass in *0* to represent row-major order..."
      ]
    },
    {
      "cell_type": "code",
      "execution_count": null,
      "metadata": {
        "colab": {
          "base_uri": "https://localhost:8080/"
        },
        "id": "VlndtLuTRvi-",
        "outputId": "b1deff4b-869e-4004-c8ba-e187d1c6c421"
      },
      "outputs": [],
      "source": [
        "X.mean(0)"
      ]
    },
    {
      "cell_type": "markdown",
      "metadata": {
        "id": "uCCXwG2SRzaZ"
      },
      "source": [
        "##Graphics"
      ]
    },
    {
      "cell_type": "markdown",
      "metadata": {
        "id": "rP4bh7Kq9c2H"
      },
      "source": [
        "In Python, it's common practice to use the *matplotlib* library for graphics. This is because Python, itself, was not written with data analysis in mind, so plotting is not intrinsic to the language. We will use *subplots()* from *matplotlib.pyplot* to create the figure and the axes onto which we plot our data."
      ]
    },
    {
      "cell_type": "code",
      "execution_count": 24,
      "metadata": {
        "id": "MoTkFpMANazp"
      },
      "outputs": [
        {
          "name": "stderr",
          "output_type": "stream",
          "text": [
            "Matplotlib is building the font cache; this may take a moment.\n"
          ]
        },
        {
          "name": "stdout",
          "output_type": "stream",
          "text": [
            "\u001b[0;31mSignature:\u001b[0m\n",
            "\u001b[0msubplots\u001b[0m\u001b[0;34m(\u001b[0m\u001b[0;34m\u001b[0m\n",
            "\u001b[0;34m\u001b[0m    \u001b[0mnrows\u001b[0m\u001b[0;34m:\u001b[0m \u001b[0;34m'int'\u001b[0m \u001b[0;34m=\u001b[0m \u001b[0;36m1\u001b[0m\u001b[0;34m,\u001b[0m\u001b[0;34m\u001b[0m\n",
            "\u001b[0;34m\u001b[0m    \u001b[0mncols\u001b[0m\u001b[0;34m:\u001b[0m \u001b[0;34m'int'\u001b[0m \u001b[0;34m=\u001b[0m \u001b[0;36m1\u001b[0m\u001b[0;34m,\u001b[0m\u001b[0;34m\u001b[0m\n",
            "\u001b[0;34m\u001b[0m    \u001b[0;34m*\u001b[0m\u001b[0;34m,\u001b[0m\u001b[0;34m\u001b[0m\n",
            "\u001b[0;34m\u001b[0m    \u001b[0msharex\u001b[0m\u001b[0;34m:\u001b[0m \u001b[0;34m\"bool | Literal['none', 'all', 'row', 'col']\"\u001b[0m \u001b[0;34m=\u001b[0m \u001b[0;32mFalse\u001b[0m\u001b[0;34m,\u001b[0m\u001b[0;34m\u001b[0m\n",
            "\u001b[0;34m\u001b[0m    \u001b[0msharey\u001b[0m\u001b[0;34m:\u001b[0m \u001b[0;34m\"bool | Literal['none', 'all', 'row', 'col']\"\u001b[0m \u001b[0;34m=\u001b[0m \u001b[0;32mFalse\u001b[0m\u001b[0;34m,\u001b[0m\u001b[0;34m\u001b[0m\n",
            "\u001b[0;34m\u001b[0m    \u001b[0msqueeze\u001b[0m\u001b[0;34m:\u001b[0m \u001b[0;34m'bool'\u001b[0m \u001b[0;34m=\u001b[0m \u001b[0;32mTrue\u001b[0m\u001b[0;34m,\u001b[0m\u001b[0;34m\u001b[0m\n",
            "\u001b[0;34m\u001b[0m    \u001b[0mwidth_ratios\u001b[0m\u001b[0;34m:\u001b[0m \u001b[0;34m'Sequence[float] | None'\u001b[0m \u001b[0;34m=\u001b[0m \u001b[0;32mNone\u001b[0m\u001b[0;34m,\u001b[0m\u001b[0;34m\u001b[0m\n",
            "\u001b[0;34m\u001b[0m    \u001b[0mheight_ratios\u001b[0m\u001b[0;34m:\u001b[0m \u001b[0;34m'Sequence[float] | None'\u001b[0m \u001b[0;34m=\u001b[0m \u001b[0;32mNone\u001b[0m\u001b[0;34m,\u001b[0m\u001b[0;34m\u001b[0m\n",
            "\u001b[0;34m\u001b[0m    \u001b[0msubplot_kw\u001b[0m\u001b[0;34m:\u001b[0m \u001b[0;34m'dict[str, Any] | None'\u001b[0m \u001b[0;34m=\u001b[0m \u001b[0;32mNone\u001b[0m\u001b[0;34m,\u001b[0m\u001b[0;34m\u001b[0m\n",
            "\u001b[0;34m\u001b[0m    \u001b[0mgridspec_kw\u001b[0m\u001b[0;34m:\u001b[0m \u001b[0;34m'dict[str, Any] | None'\u001b[0m \u001b[0;34m=\u001b[0m \u001b[0;32mNone\u001b[0m\u001b[0;34m,\u001b[0m\u001b[0;34m\u001b[0m\n",
            "\u001b[0;34m\u001b[0m    \u001b[0;34m**\u001b[0m\u001b[0mfig_kw\u001b[0m\u001b[0;34m,\u001b[0m\u001b[0;34m\u001b[0m\n",
            "\u001b[0;34m\u001b[0m\u001b[0;34m)\u001b[0m \u001b[0;34m->\u001b[0m \u001b[0;34m'tuple[Figure, Any]'\u001b[0m\u001b[0;34m\u001b[0m\u001b[0;34m\u001b[0m\u001b[0m\n",
            "\u001b[0;31mDocstring:\u001b[0m\n",
            "Create a figure and a set of subplots.\n",
            "\n",
            "This utility wrapper makes it convenient to create common layouts of\n",
            "subplots, including the enclosing figure object, in a single call.\n",
            "\n",
            "Parameters\n",
            "----------\n",
            "nrows, ncols : int, default: 1\n",
            "    Number of rows/columns of the subplot grid.\n",
            "\n",
            "sharex, sharey : bool or {'none', 'all', 'row', 'col'}, default: False\n",
            "    Controls sharing of properties among x (*sharex*) or y (*sharey*)\n",
            "    axes:\n",
            "\n",
            "    - True or 'all': x- or y-axis will be shared among all subplots.\n",
            "    - False or 'none': each subplot x- or y-axis will be independent.\n",
            "    - 'row': each subplot row will share an x- or y-axis.\n",
            "    - 'col': each subplot column will share an x- or y-axis.\n",
            "\n",
            "    When subplots have a shared x-axis along a column, only the x tick\n",
            "    labels of the bottom subplot are created. Similarly, when subplots\n",
            "    have a shared y-axis along a row, only the y tick labels of the first\n",
            "    column subplot are created. To later turn other subplots' ticklabels\n",
            "    on, use `~matplotlib.axes.Axes.tick_params`.\n",
            "\n",
            "    When subplots have a shared axis that has units, calling\n",
            "    `.Axis.set_units` will update each axis with the new units.\n",
            "\n",
            "    Note that it is not possible to unshare axes.\n",
            "\n",
            "squeeze : bool, default: True\n",
            "    - If True, extra dimensions are squeezed out from the returned\n",
            "      array of `~matplotlib.axes.Axes`:\n",
            "\n",
            "      - if only one subplot is constructed (nrows=ncols=1), the\n",
            "        resulting single Axes object is returned as a scalar.\n",
            "      - for Nx1 or 1xM subplots, the returned object is a 1D numpy\n",
            "        object array of Axes objects.\n",
            "      - for NxM, subplots with N>1 and M>1 are returned as a 2D array.\n",
            "\n",
            "    - If False, no squeezing at all is done: the returned Axes object is\n",
            "      always a 2D array containing Axes instances, even if it ends up\n",
            "      being 1x1.\n",
            "\n",
            "width_ratios : array-like of length *ncols*, optional\n",
            "    Defines the relative widths of the columns. Each column gets a\n",
            "    relative width of ``width_ratios[i] / sum(width_ratios)``.\n",
            "    If not given, all columns will have the same width.  Equivalent\n",
            "    to ``gridspec_kw={'width_ratios': [...]}``.\n",
            "\n",
            "height_ratios : array-like of length *nrows*, optional\n",
            "    Defines the relative heights of the rows. Each row gets a\n",
            "    relative height of ``height_ratios[i] / sum(height_ratios)``.\n",
            "    If not given, all rows will have the same height. Convenience\n",
            "    for ``gridspec_kw={'height_ratios': [...]}``.\n",
            "\n",
            "subplot_kw : dict, optional\n",
            "    Dict with keywords passed to the\n",
            "    `~matplotlib.figure.Figure.add_subplot` call used to create each\n",
            "    subplot.\n",
            "\n",
            "gridspec_kw : dict, optional\n",
            "    Dict with keywords passed to the `~matplotlib.gridspec.GridSpec`\n",
            "    constructor used to create the grid the subplots are placed on.\n",
            "\n",
            "**fig_kw\n",
            "    All additional keyword arguments are passed to the\n",
            "    `.pyplot.figure` call.\n",
            "\n",
            "Returns\n",
            "-------\n",
            "fig : `.Figure`\n",
            "\n",
            "ax : `~matplotlib.axes.Axes` or array of Axes\n",
            "    *ax* can be either a single `~.axes.Axes` object, or an array of Axes\n",
            "    objects if more than one subplot was created.  The dimensions of the\n",
            "    resulting array can be controlled with the squeeze keyword, see above.\n",
            "\n",
            "    Typical idioms for handling the return value are::\n",
            "\n",
            "        # using the variable ax for single a Axes\n",
            "        fig, ax = plt.subplots()\n",
            "\n",
            "        # using the variable axs for multiple Axes\n",
            "        fig, axs = plt.subplots(2, 2)\n",
            "\n",
            "        # using tuple unpacking for multiple Axes\n",
            "        fig, (ax1, ax2) = plt.subplots(1, 2)\n",
            "        fig, ((ax1, ax2), (ax3, ax4)) = plt.subplots(2, 2)\n",
            "\n",
            "    The names ``ax`` and pluralized ``axs`` are preferred over ``axes``\n",
            "    because for the latter it's not clear if it refers to a single\n",
            "    `~.axes.Axes` instance or a collection of these.\n",
            "\n",
            "See Also\n",
            "--------\n",
            ".pyplot.figure\n",
            ".pyplot.subplot\n",
            ".pyplot.axes\n",
            ".Figure.subplots\n",
            ".Figure.add_subplot\n",
            "\n",
            "Examples\n",
            "--------\n",
            "::\n",
            "\n",
            "    # First create some toy data:\n",
            "    x = np.linspace(0, 2*np.pi, 400)\n",
            "    y = np.sin(x**2)\n",
            "\n",
            "    # Create just a figure and only one subplot\n",
            "    fig, ax = plt.subplots()\n",
            "    ax.plot(x, y)\n",
            "    ax.set_title('Simple plot')\n",
            "\n",
            "    # Create two subplots and unpack the output array immediately\n",
            "    f, (ax1, ax2) = plt.subplots(1, 2, sharey=True)\n",
            "    ax1.plot(x, y)\n",
            "    ax1.set_title('Sharing Y axis')\n",
            "    ax2.scatter(x, y)\n",
            "\n",
            "    # Create four polar Axes and access them through the returned array\n",
            "    fig, axs = plt.subplots(2, 2, subplot_kw=dict(projection=\"polar\"))\n",
            "    axs[0, 0].plot(x, y)\n",
            "    axs[1, 1].scatter(x, y)\n",
            "\n",
            "    # Share a X axis with each column of subplots\n",
            "    plt.subplots(2, 2, sharex='col')\n",
            "\n",
            "    # Share a Y axis with each row of subplots\n",
            "    plt.subplots(2, 2, sharey='row')\n",
            "\n",
            "    # Share both X and Y axes with all subplots\n",
            "    plt.subplots(2, 2, sharex='all', sharey='all')\n",
            "\n",
            "    # Note that this is the same as\n",
            "    plt.subplots(2, 2, sharex=True, sharey=True)\n",
            "\n",
            "    # Create figure number 10 with a single subplot\n",
            "    # and clears it if it already exists.\n",
            "    fig, ax = plt.subplots(num=10, clear=True)\n",
            "\u001b[0;31mFile:\u001b[0m      ~/Library/Python/3.12/lib/python/site-packages/matplotlib/pyplot.py\n",
            "\u001b[0;31mType:\u001b[0m      function"
          ]
        }
      ],
      "source": [
        "from matplotlib.pyplot import subplots\n",
        "subplots?"
      ]
    },
    {
      "cell_type": "markdown",
      "metadata": {},
      "source": []
    }
  ],
  "metadata": {
    "colab": {
      "authorship_tag": "ABX9TyODrpJAF8uUZGzYA904Xqfh",
      "include_colab_link": true,
      "provenance": []
    },
    "kernelspec": {
      "display_name": "Python 3 (ipykernel)",
      "language": "python",
      "name": "python3"
    },
    "language_info": {
      "codemirror_mode": {
        "name": "ipython",
        "version": 3
      },
      "file_extension": ".py",
      "mimetype": "text/x-python",
      "name": "python",
      "nbconvert_exporter": "python",
      "pygments_lexer": "ipython3",
      "version": "3.12.4"
    }
  },
  "nbformat": 4,
  "nbformat_minor": 0
}
