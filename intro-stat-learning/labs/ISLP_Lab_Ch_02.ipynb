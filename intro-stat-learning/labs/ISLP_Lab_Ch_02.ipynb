{
  "cells": [
    {
      "cell_type": "markdown",
      "metadata": {
        "id": "view-in-github",
        "colab_type": "text"
      },
      "source": [
        "<a href=\"https://colab.research.google.com/github/taadith/python-projects/blob/main/intro-stat-learning/labs/ISLP_Lab_Ch_02.ipynb\" target=\"_parent\"><img src=\"https://colab.research.google.com/assets/colab-badge.svg\" alt=\"Open In Colab\"/></a>"
      ]
    },
    {
      "cell_type": "markdown",
      "metadata": {
        "id": "kJdlBjzEEv_e"
      },
      "source": [
        "# Introduction to Statistical Learning - Lab 02\n",
        "Dataset provided by Introduction to Statistical Learning\n",
        "(from this website: https://www.statlearning.com/resources-python)"
      ]
    },
    {
      "cell_type": "markdown",
      "metadata": {
        "id": "CCxUdV67G9T5"
      },
      "source": [
        "**Note: Assuming that *Auto.csv* is in same folder as this notebook.**"
      ]
    },
    {
      "cell_type": "markdown",
      "metadata": {
        "id": "E4WmiyAqFV8i"
      },
      "source": [
        "## Installing libraries"
      ]
    },
    {
      "cell_type": "code",
      "execution_count": null,
      "metadata": {
        "colab": {
          "base_uri": "https://localhost:8080/"
        },
        "collapsed": true,
        "id": "GQL7bR-yxiHa",
        "outputId": "fa324df1-5cd5-47d2-dea8-d381cdd6558f"
      },
      "outputs": [
        {
          "name": "stdout",
          "output_type": "stream",
          "text": [
            "zsh:1: command not found: pip\n",
            "zsh:1: command not found: pip\n",
            "zsh:1: command not found: pip\n",
            "zsh:1: command not found: pip\n"
          ]
        }
      ],
      "source": [
        "!pip install pandas\n",
        "!pip install numpy\n",
        "!pip install matplotlib\n",
        "!pip install seaborn"
      ]
    },
    {
      "cell_type": "markdown",
      "metadata": {
        "id": "ZA7sSiZ4FnLS"
      },
      "source": [
        "##Basic Commands"
      ]
    },
    {
      "cell_type": "markdown",
      "metadata": {
        "id": "XJ4d8fwJjUXP"
      },
      "source": [
        "The *?* command helps provide information about functions by providing it's respective Docstring. Here's the *print()*'s function Docstring..."
      ]
    },
    {
      "cell_type": "code",
      "execution_count": null,
      "metadata": {
        "id": "Yk5qYySKjcSL",
        "outputId": "4cc6f7b8-4f5d-4d48-9cd4-c81a51ae9864"
      },
      "outputs": [
        {
          "name": "stdout",
          "output_type": "stream",
          "text": [
            "\u001b[0;31mSignature:\u001b[0m \u001b[0mprint\u001b[0m\u001b[0;34m(\u001b[0m\u001b[0;34m*\u001b[0m\u001b[0margs\u001b[0m\u001b[0;34m,\u001b[0m \u001b[0msep\u001b[0m\u001b[0;34m=\u001b[0m\u001b[0;34m' '\u001b[0m\u001b[0;34m,\u001b[0m \u001b[0mend\u001b[0m\u001b[0;34m=\u001b[0m\u001b[0;34m'\\n'\u001b[0m\u001b[0;34m,\u001b[0m \u001b[0mfile\u001b[0m\u001b[0;34m=\u001b[0m\u001b[0;32mNone\u001b[0m\u001b[0;34m,\u001b[0m \u001b[0mflush\u001b[0m\u001b[0;34m=\u001b[0m\u001b[0;32mFalse\u001b[0m\u001b[0;34m)\u001b[0m\u001b[0;34m\u001b[0m\u001b[0;34m\u001b[0m\u001b[0m\n",
            "\u001b[0;31mDocstring:\u001b[0m\n",
            "Prints the values to a stream, or to sys.stdout by default.\n",
            "\n",
            "sep\n",
            "  string inserted between values, default a space.\n",
            "end\n",
            "  string appended after the last value, default a newline.\n",
            "file\n",
            "  a file-like object (stream); defaults to the current sys.stdout.\n",
            "flush\n",
            "  whether to forcibly flush the stream.\n",
            "\u001b[0;31mType:\u001b[0m      builtin_function_or_method"
          ]
        }
      ],
      "source": [
        "print?"
      ]
    },
    {
      "cell_type": "code",
      "execution_count": null,
      "metadata": {
        "colab": {
          "base_uri": "https://localhost:8080/"
        },
        "id": "p4NHCGcLjOK3",
        "outputId": "f70ae058-012e-4a4b-b568-abdc075a2c99"
      },
      "outputs": [
        {
          "name": "stdout",
          "output_type": "stream",
          "text": [
            "fit a model with 11 variables\n"
          ]
        }
      ],
      "source": [
        "print(\"fit a model with\", 11, \"variables\")"
      ]
    },
    {
      "cell_type": "markdown",
      "metadata": {
        "id": "Br_YwYjjjujN"
      },
      "source": [
        "In Python, there are three important type of sequences, ordered lists: lists, tuples, and strings. We introduce lists..."
      ]
    },
    {
      "cell_type": "code",
      "execution_count": null,
      "metadata": {
        "colab": {
          "base_uri": "https://localhost:8080/"
        },
        "id": "Mhl7Og6ej5M_",
        "outputId": "cf02178d-4b81-49ed-9116-03041946610b"
      },
      "outputs": [
        {
          "data": {
            "text/plain": [
              "[1, 2, 3, 4, 5, 6]"
            ]
          },
          "execution_count": 3,
          "metadata": {},
          "output_type": "execute_result"
        }
      ],
      "source": [
        "x = [1, 2, 3]\n",
        "y = [4, 5, 6]\n",
        "x + y"
      ]
    },
    {
      "cell_type": "markdown",
      "metadata": {
        "id": "KTojljZIj-nc"
      },
      "source": [
        "In Python, lists hold arbitary objects and are added by concatentation, not element-by-element. This makes sense since Python is designed as a general-purpose programming language. Python's data-specific functionality comes from the *numpy* and *pandas* packages!"
      ]
    },
    {
      "cell_type": "markdown",
      "metadata": {
        "id": "WmkZMv9IkebD"
      },
      "source": [
        "## Intro to Numerical Python"
      ]
    },
    {
      "cell_type": "code",
      "execution_count": null,
      "metadata": {
        "id": "bloPUkCeOyIZ"
      },
      "outputs": [],
      "source": [
        "import numpy as np"
      ]
    },
    {
      "cell_type": "markdown",
      "metadata": {
        "id": "IqAyt_U7bJJA"
      },
      "source": [
        "###Numpy Arrays"
      ]
    },
    {
      "cell_type": "markdown",
      "metadata": {
        "id": "DnPx8AeNxFrh"
      },
      "source": [
        "In numpy, an array is a generic term for a multidimensional set, in the non-mathematical sense, of numbers."
      ]
    },
    {
      "cell_type": "code",
      "execution_count": null,
      "metadata": {
        "id": "roJ-6sixO0Jr",
        "outputId": "cd072af3-9f92-4bb5-d995-d2ff8388c81b"
      },
      "outputs": [
        {
          "name": "stdout",
          "output_type": "stream",
          "text": [
            "\u001b[0;31mDocstring:\u001b[0m\n",
            "array(object, dtype=None, *, copy=True, order='K', subok=False, ndmin=0,\n",
            "      like=None)\n",
            "\n",
            "Create an array.\n",
            "\n",
            "Parameters\n",
            "----------\n",
            "object : array_like\n",
            "    An array, any object exposing the array interface, an object whose\n",
            "    ``__array__`` method returns an array, or any (nested) sequence.\n",
            "    If object is a scalar, a 0-dimensional array containing object is\n",
            "    returned.\n",
            "dtype : data-type, optional\n",
            "    The desired data-type for the array. If not given, NumPy will try to use\n",
            "    a default ``dtype`` that can represent the values (by applying promotion\n",
            "    rules when necessary.)\n",
            "copy : bool, optional\n",
            "    If ``True`` (default), then the array data is copied. If ``None``,\n",
            "    a copy will only be made if ``__array__`` returns a copy, if obj is\n",
            "    a nested sequence, or if a copy is needed to satisfy any of the other\n",
            "    requirements (``dtype``, ``order``, etc.). Note that any copy of\n",
            "    the data is shallow, i.e., for arrays with object dtype, the new\n",
            "    array will point to the same objects. See Examples for `ndarray.copy`.\n",
            "    For ``False`` it raises a ``ValueError`` if a copy cannot be avoided.\n",
            "    Default: ``True``.\n",
            "order : {'K', 'A', 'C', 'F'}, optional\n",
            "    Specify the memory layout of the array. If object is not an array, the\n",
            "    newly created array will be in C order (row major) unless 'F' is\n",
            "    specified, in which case it will be in Fortran order (column major).\n",
            "    If object is an array the following holds.\n",
            "\n",
            "    ===== ========= ===================================================\n",
            "    order  no copy                     copy=True\n",
            "    ===== ========= ===================================================\n",
            "    'K'   unchanged F & C order preserved, otherwise most similar order\n",
            "    'A'   unchanged F order if input is F and not C, otherwise C order\n",
            "    'C'   C order   C order\n",
            "    'F'   F order   F order\n",
            "    ===== ========= ===================================================\n",
            "\n",
            "    When ``copy=None`` and a copy is made for other reasons, the result is\n",
            "    the same as if ``copy=True``, with some exceptions for 'A', see the\n",
            "    Notes section. The default order is 'K'.\n",
            "subok : bool, optional\n",
            "    If True, then sub-classes will be passed-through, otherwise\n",
            "    the returned array will be forced to be a base-class array (default).\n",
            "ndmin : int, optional\n",
            "    Specifies the minimum number of dimensions that the resulting\n",
            "    array should have.  Ones will be prepended to the shape as\n",
            "    needed to meet this requirement.\n",
            "like : array_like, optional\n",
            "    Reference object to allow the creation of arrays which are not\n",
            "    NumPy arrays. If an array-like passed in as ``like`` supports\n",
            "    the ``__array_function__`` protocol, the result will be defined\n",
            "    by it. In this case, it ensures the creation of an array object\n",
            "    compatible with that passed in via this argument.\n",
            "\n",
            "    .. versionadded:: 1.20.0\n",
            "\n",
            "Returns\n",
            "-------\n",
            "out : ndarray\n",
            "    An array object satisfying the specified requirements.\n",
            "\n",
            "See Also\n",
            "--------\n",
            "empty_like : Return an empty array with shape and type of input.\n",
            "ones_like : Return an array of ones with shape and type of input.\n",
            "zeros_like : Return an array of zeros with shape and type of input.\n",
            "full_like : Return a new array with shape of input filled with value.\n",
            "empty : Return a new uninitialized array.\n",
            "ones : Return a new array setting values to one.\n",
            "zeros : Return a new array setting values to zero.\n",
            "full : Return a new array of given shape filled with value.\n",
            "copy: Return an array copy of the given object.\n",
            "\n",
            "\n",
            "Notes\n",
            "-----\n",
            "When order is 'A' and ``object`` is an array in neither 'C' nor 'F' order,\n",
            "and a copy is forced by a change in dtype, then the order of the result is\n",
            "not necessarily 'C' as expected. This is likely a bug.\n",
            "\n",
            "Examples\n",
            "--------\n",
            ">>> np.array([1, 2, 3])\n",
            "array([1, 2, 3])\n",
            "\n",
            "Upcasting:\n",
            "\n",
            ">>> np.array([1, 2, 3.0])\n",
            "array([ 1.,  2.,  3.])\n",
            "\n",
            "More than one dimension:\n",
            "\n",
            ">>> np.array([[1, 2], [3, 4]])\n",
            "array([[1, 2],\n",
            "       [3, 4]])\n",
            "\n",
            "Minimum dimensions 2:\n",
            "\n",
            ">>> np.array([1, 2, 3], ndmin=2)\n",
            "array([[1, 2, 3]])\n",
            "\n",
            "Type provided:\n",
            "\n",
            ">>> np.array([1, 2, 3], dtype=complex)\n",
            "array([ 1.+0.j,  2.+0.j,  3.+0.j])\n",
            "\n",
            "Data-type consisting of more than one element:\n",
            "\n",
            ">>> x = np.array([(1,2),(3,4)],dtype=[('a','<i4'),('b','<i4')])\n",
            ">>> x['a']\n",
            "array([1, 3])\n",
            "\n",
            "Creating an array from sub-classes:\n",
            "\n",
            ">>> np.array(np.asmatrix('1 2; 3 4'))\n",
            "array([[1, 2],\n",
            "       [3, 4]])\n",
            "\n",
            ">>> np.array(np.asmatrix('1 2; 3 4'), subok=True)\n",
            "matrix([[1, 2],\n",
            "        [3, 4]])\n",
            "\u001b[0;31mType:\u001b[0m      builtin_function_or_method"
          ]
        }
      ],
      "source": [
        "np.array?"
      ]
    },
    {
      "cell_type": "markdown",
      "metadata": {
        "id": "FCJjFavrJUwU"
      },
      "source": [
        "We see that the numpy arrays are added to each other element-by-element instead of being concatenated!!! Yayyy!"
      ]
    },
    {
      "cell_type": "code",
      "execution_count": null,
      "metadata": {
        "colab": {
          "base_uri": "https://localhost:8080/"
        },
        "id": "Vjxgozeskgh_",
        "outputId": "ee87a020-ac0e-4ea2-9498-9ab993003f1d"
      },
      "outputs": [
        {
          "data": {
            "text/plain": [
              "array([5, 7, 9])"
            ]
          },
          "execution_count": 7,
          "metadata": {},
          "output_type": "execute_result"
        }
      ],
      "source": [
        "x = np.array([1, 2, 3])\n",
        "y = np.array([4, 5, 6])\n",
        "x + y"
      ]
    },
    {
      "cell_type": "markdown",
      "metadata": {
        "id": "2YWV7YKsJdUN"
      },
      "source": [
        "Besides one-dimensional numpy arrays, we can essentially make a n-dimensional numpy array, where n is any integer greater than or equal to 1 that is computationally possible."
      ]
    },
    {
      "cell_type": "code",
      "execution_count": null,
      "metadata": {
        "id": "gf1SS7mNKdPB"
      },
      "outputs": [],
      "source": [
        "x_1d = np.array([1, 2])\n",
        "x_2d = np.array([[1, 2], [3, 4]])\n",
        "x_3d = np.array([[[1, 2], [3, 4]], [[5, 6], [7, 8]], [[9, 10], [11, 12]], [[13, 14], [15, 16]]])"
      ]
    },
    {
      "cell_type": "markdown",
      "metadata": {
        "id": "AIfl_sMoKd0D"
      },
      "source": [
        "We can observe the dimensions of a numpy array using the attribute *ndim*."
      ]
    },
    {
      "cell_type": "code",
      "execution_count": null,
      "metadata": {
        "colab": {
          "base_uri": "https://localhost:8080/"
        },
        "id": "qgdwb7gKMbob",
        "outputId": "a3e84da8-29f3-4083-95f7-fef29392c6dd"
      },
      "outputs": [
        {
          "name": "stdout",
          "output_type": "stream",
          "text": [
            "x_1d dimensions: 1\n",
            "x_2d dimensions: 2\n",
            "x_3d dimensions: 3\n"
          ]
        }
      ],
      "source": [
        "print(\"x_1d dimensions:\", x_1d.ndim)\n",
        "print(\"x_2d dimensions:\", x_2d.ndim)\n",
        "print(\"x_3d dimensions:\", x_3d.ndim)"
      ]
    },
    {
      "cell_type": "markdown",
      "metadata": {
        "id": "IUVh8ZjxMcal"
      },
      "source": [
        "Along with the dimensions of the numpy array, the shape of the array itself can be observed with the *shape* attribute."
      ]
    },
    {
      "cell_type": "code",
      "execution_count": null,
      "metadata": {
        "colab": {
          "base_uri": "https://localhost:8080/"
        },
        "id": "hHslpwIhNVur",
        "outputId": "04113182-8a3c-4f8e-facf-2e0ad1115e2f"
      },
      "outputs": [
        {
          "name": "stdout",
          "output_type": "stream",
          "text": [
            "x_1d shape: (2,)\n",
            "x_2d shape: (2, 2)\n",
            "x_3d shape: (4, 2, 2)\n"
          ]
        }
      ],
      "source": [
        "print(\"x_1d shape:\", x_1d.shape)\n",
        "print(\"x_2d shape:\", x_2d.shape)\n",
        "print(\"x_3d shape:\", x_3d.shape)"
      ]
    },
    {
      "cell_type": "markdown",
      "metadata": {
        "id": "achxdy1-NPn1"
      },
      "source": [
        "The data type stored within the numpy array can be observed using *dtype()*."
      ]
    },
    {
      "cell_type": "code",
      "execution_count": null,
      "metadata": {
        "colab": {
          "base_uri": "https://localhost:8080/"
        },
        "id": "phQ8wNoAN8nS",
        "outputId": "87bd6d2a-e83d-4a30-e1fd-b5fa179fb862"
      },
      "outputs": [
        {
          "name": "stdout",
          "output_type": "stream",
          "text": [
            "x_1d dtype: int64\n",
            "x_2d dtype: int64\n",
            "x_3d dtype: int64\n"
          ]
        }
      ],
      "source": [
        "print(\"x_1d dtype:\", x_1d.dtype)\n",
        "print(\"x_2d dtype:\", x_2d.dtype)\n",
        "print(\"x_3d dtype:\", x_3d.dtype)"
      ]
    },
    {
      "cell_type": "markdown",
      "metadata": {
        "id": "_oscEWiDR-1M"
      },
      "source": [
        "The *reshape()* method returns a new array with the same elements the numpy array that calls."
      ]
    },
    {
      "cell_type": "code",
      "execution_count": null,
      "metadata": {
        "id": "CF0pJRI_VZ_n"
      },
      "outputs": [],
      "source": [
        "np.reshape?"
      ]
    },
    {
      "cell_type": "code",
      "execution_count": null,
      "metadata": {
        "colab": {
          "base_uri": "https://localhost:8080/"
        },
        "id": "9HoGDPrzVcAc",
        "outputId": "6cebfc5a-c27c-4489-d042-72850345c2d6"
      },
      "outputs": [
        {
          "data": {
            "text/plain": [
              "(array([1, 2, 3, 4, 5, 6]),\n",
              " array([[1, 2, 3],\n",
              "        [4, 5, 6]]))"
            ]
          },
          "execution_count": 13,
          "metadata": {},
          "output_type": "execute_result"
        }
      ],
      "source": [
        "x = np.array([1, 2, 3, 4, 5, 6])\n",
        "x_reshape = x.reshape(2, 3)\n",
        "x, x_reshape"
      ]
    },
    {
      "cell_type": "markdown",
      "metadata": {
        "id": "a9s5gVmcbMp1"
      },
      "source": [
        "It's important to note that x and x.reshape occupy the same memory region. We can observe this by modifying x_reshape and then observing the two..."
      ]
    },
    {
      "cell_type": "code",
      "execution_count": null,
      "metadata": {
        "colab": {
          "base_uri": "https://localhost:8080/"
        },
        "id": "cW74oatAdIrB",
        "outputId": "1c2a39c1-c34c-435e-9cf2-00b7a20d5608"
      },
      "outputs": [
        {
          "data": {
            "text/plain": [
              "(array([99,  2,  3,  4,  5,  6]),\n",
              " array([[99,  2,  3],\n",
              "        [ 4,  5,  6]]))"
            ]
          },
          "execution_count": 14,
          "metadata": {},
          "output_type": "execute_result"
        }
      ],
      "source": [
        "x_reshape[0, 0] = 99\n",
        "x, x_reshape"
      ]
    },
    {
      "cell_type": "markdown",
      "metadata": {
        "id": "n3l8EuHKdTV7"
      },
      "source": [
        "...heyyyy this reminds me of a pointer"
      ]
    },
    {
      "cell_type": "markdown",
      "metadata": {
        "id": "kt8whdBRgzc1"
      },
      "source": [
        "Interestingly, we cannot modify a tuple!"
      ]
    },
    {
      "cell_type": "code",
      "execution_count": null,
      "metadata": {
        "colab": {
          "base_uri": "https://localhost:8080/",
          "height": 162
        },
        "id": "ijYF3uwPg4tK",
        "outputId": "353cb944-70f8-4220-d44f-9f030247fed7"
      },
      "outputs": [
        {
          "ename": "TypeError",
          "evalue": "'tuple' object does not support item assignment",
          "output_type": "error",
          "traceback": [
            "\u001b[0;31m---------------------------------------------------------------------------\u001b[0m",
            "\u001b[0;31mTypeError\u001b[0m                                 Traceback (most recent call last)",
            "\u001b[0;32m<ipython-input-15-546eca3430d8>\u001b[0m in \u001b[0;36m<cell line: 2>\u001b[0;34m()\u001b[0m\n\u001b[1;32m      1\u001b[0m \u001b[0mtup\u001b[0m \u001b[0;34m=\u001b[0m \u001b[0;34m(\u001b[0m\u001b[0;36m1\u001b[0m\u001b[0;34m,\u001b[0m \u001b[0;36m2\u001b[0m\u001b[0;34m,\u001b[0m \u001b[0;36m3\u001b[0m\u001b[0;34m)\u001b[0m\u001b[0;34m\u001b[0m\u001b[0;34m\u001b[0m\u001b[0m\n\u001b[0;32m----> 2\u001b[0;31m \u001b[0mtup\u001b[0m\u001b[0;34m[\u001b[0m\u001b[0;36m0\u001b[0m\u001b[0;34m]\u001b[0m \u001b[0;34m=\u001b[0m \u001b[0;36m99\u001b[0m\u001b[0;34m\u001b[0m\u001b[0;34m\u001b[0m\u001b[0m\n\u001b[0m",
            "\u001b[0;31mTypeError\u001b[0m: 'tuple' object does not support item assignment"
          ]
        }
      ],
      "source": [
        "tup = (1, 2, 3)\n",
        "tup[0] = 99"
      ]
    },
    {
      "cell_type": "markdown",
      "metadata": {
        "id": "zSiqlCpmhBmL"
      },
      "source": [
        "###Generating random data\n",
        "\n"
      ]
    },
    {
      "cell_type": "markdown",
      "metadata": {
        "id": "1xVyInV1hqii"
      },
      "source": [
        "The *np.random.normal()* function generates a vector of random normal variables..."
      ]
    },
    {
      "cell_type": "code",
      "source": [
        "np.random.normal?"
      ],
      "metadata": {
        "id": "Z-WYhAi3Nsx6"
      },
      "execution_count": null,
      "outputs": []
    },
    {
      "cell_type": "markdown",
      "source": [
        "From the generated Docstring's first line, we see\n",
        "```\n",
        "normal(loc=0.0, scale=1.0, size=None)\n",
        "```\n",
        "This means that the function, by default, will generate random normal variable(s) with a mean (loc) of 0 and a standard deviation (scale) of 1. Furthermore, a single random variable will be generated unless *size*'s argument is changed."
      ],
      "metadata": {
        "id": "x6LI5oIiN9fn"
      }
    },
    {
      "cell_type": "markdown",
      "source": [
        "We will now generate 50 random independent variables from a *N*(0, 1) distribution..."
      ],
      "metadata": {
        "id": "BqmCOHjiOibn"
      }
    },
    {
      "cell_type": "code",
      "source": [
        "x = np.random.normal(0, 1, 50)\n",
        "x"
      ],
      "metadata": {
        "colab": {
          "base_uri": "https://localhost:8080/"
        },
        "id": "2ElfjOxYOvaA",
        "outputId": "d3e1e99b-5e6f-4940-d9fb-f25b180bf645"
      },
      "execution_count": null,
      "outputs": [
        {
          "output_type": "execute_result",
          "data": {
            "text/plain": [
              "array([-0.4600815 , -1.80989936,  0.70360488,  1.86775985,  0.13544004,\n",
              "       -0.62907902, -0.09785678, -0.5053355 , -0.11537608, -0.89141985,\n",
              "       -0.18819758,  0.37047941,  0.50489457, -0.1277385 , -0.78041876,\n",
              "        0.82568674, -1.47226451, -0.55774988, -0.27640874,  1.72365143,\n",
              "       -0.91208976, -0.33907329, -1.35705379,  1.24235172, -0.25540157,\n",
              "        0.82453434,  0.35059304,  2.21767574, -0.38664305, -0.33716559,\n",
              "        0.46643442,  0.79493744, -0.78125698,  0.92871603,  1.32483255,\n",
              "        2.52579291, -1.65816908, -0.43512185,  0.92680245, -1.31456902,\n",
              "       -0.01864776,  1.79530208,  0.63388705, -0.74218037,  1.44269068,\n",
              "       -0.47007315, -0.28273773, -0.25078463,  0.8695218 , -1.35400721])"
            ]
          },
          "metadata": {},
          "execution_count": 5
        }
      ]
    },
    {
      "cell_type": "markdown",
      "source": [
        "We can create an array y by adding an independent *N*(0, 1)* random variable to each element of *x*..."
      ],
      "metadata": {
        "id": "pf5I1GtqOz6V"
      }
    },
    {
      "cell_type": "code",
      "source": [
        "y = x + np.random.normal(0, 1, 50)\n",
        "y"
      ],
      "metadata": {
        "colab": {
          "base_uri": "https://localhost:8080/"
        },
        "id": "5lMBPEUlOza-",
        "outputId": "3cac313b-040d-425f-b3a9-19de6bfb68d3"
      },
      "execution_count": null,
      "outputs": [
        {
          "output_type": "execute_result",
          "data": {
            "text/plain": [
              "array([-0.697375  , -2.94576022, -0.16933529,  3.11886781, -0.76169832,\n",
              "        0.25171489, -0.62626379, -1.41851851, -0.45241603, -0.90729981,\n",
              "        0.93838272, -0.55181272,  0.43129502, -0.06485072, -1.59513593,\n",
              "       -2.61583712, -1.31959839, -1.23775179, -2.35000655,  1.93984663,\n",
              "       -1.03665255,  0.74418192, -0.57925272,  1.72516891, -1.35267174,\n",
              "        0.96941849,  2.62306515,  4.18358021, -0.97805497, -1.88785356,\n",
              "       -0.9792983 ,  0.87378034, -2.19446012,  0.82756539,  1.50328516,\n",
              "        3.84131159, -2.4880865 , -1.39189855,  1.52860663, -1.88416669,\n",
              "        0.53008149,  3.13239337,  0.74468558, -1.04072907,  0.74440286,\n",
              "       -1.32962651, -2.37172669,  0.36480338,  1.80189316, -1.18771823])"
            ]
          },
          "metadata": {},
          "execution_count": 6
        }
      ]
    },
    {
      "cell_type": "markdown",
      "source": [
        "We can calulate the correlation matrix between *x* and *y* using the *np.corrcoef()* function. The off-diagonal elements gives the correlation between *x* and *y*."
      ],
      "metadata": {
        "id": "fZhzcC47PAsC"
      }
    },
    {
      "cell_type": "code",
      "source": [
        "np.corrcoef?"
      ],
      "metadata": {
        "id": "kr69O-XhPKWn"
      },
      "execution_count": null,
      "outputs": []
    },
    {
      "cell_type": "code",
      "source": [
        "np.corrcoef(x, y)"
      ],
      "metadata": {
        "colab": {
          "base_uri": "https://localhost:8080/"
        },
        "id": "afLpNITgPOG_",
        "outputId": "2fbd4bba-82db-47b7-ad66-64c7bd268cdb"
      },
      "execution_count": null,
      "outputs": [
        {
          "output_type": "execute_result",
          "data": {
            "text/plain": [
              "array([[1.        , 0.81017361],\n",
              "       [0.81017361, 1.        ]])"
            ]
          },
          "metadata": {},
          "execution_count": 8
        }
      ]
    },
    {
      "cell_type": "markdown",
      "source": [
        "In order to ensure that the code provides reproducible results, we can set the random seed using *np.random.default_rng()*."
      ],
      "metadata": {
        "id": "GMti0vADPWhV"
      }
    },
    {
      "cell_type": "code",
      "source": [
        "np.random.default_rng?"
      ],
      "metadata": {
        "id": "dixsJSyvPdOz"
      },
      "execution_count": null,
      "outputs": []
    },
    {
      "cell_type": "code",
      "source": [
        "rng = np.random.default_rng(3)"
      ],
      "metadata": {
        "id": "PG0OOTWTP4mM"
      },
      "execution_count": null,
      "outputs": []
    },
    {
      "cell_type": "markdown",
      "source": [
        "We can use the *np.mean()*, *np.var()*, and *np.std()* functions to compute the mean, variance, and standard deviation of arrays, respectively."
      ],
      "metadata": {
        "id": "t_hYHpIXPvBh"
      }
    },
    {
      "cell_type": "code",
      "source": [
        "np.mean?"
      ],
      "metadata": {
        "id": "gQWXMBknQUbW"
      },
      "execution_count": null,
      "outputs": []
    },
    {
      "cell_type": "code",
      "source": [
        "x = rng.standard_normal(10)\n",
        "np.mean(x), x.mean()"
      ],
      "metadata": {
        "colab": {
          "base_uri": "https://localhost:8080/"
        },
        "id": "oypHrDkRPuw7",
        "outputId": "4ce1fc64-c8a8-4342-bdbe-c15b96561b91"
      },
      "execution_count": null,
      "outputs": [
        {
          "output_type": "execute_result",
          "data": {
            "text/plain": [
              "(-0.15207811179871472, -0.15207811179871472)"
            ]
          },
          "metadata": {},
          "execution_count": 14
        }
      ]
    },
    {
      "cell_type": "markdown",
      "source": [
        "By default, *np.var()* divides by the sample size *n* rather than *n - 1*. For more information, we should inspect the *ddof*, or degrees of freedom, argument seen in *np.var?*"
      ],
      "metadata": {
        "id": "_WwyN6x4Qght"
      }
    },
    {
      "cell_type": "code",
      "source": [
        "np.var?"
      ],
      "metadata": {
        "id": "9GhDEwk6QcPJ"
      },
      "execution_count": null,
      "outputs": []
    },
    {
      "cell_type": "markdown",
      "source": [
        "By default, *ddof* is set to zero."
      ],
      "metadata": {
        "id": "zxb5EI50Qy75"
      }
    },
    {
      "cell_type": "code",
      "source": [
        "np.var(x), x.var(), np.mean((y - y.mean())**2)"
      ],
      "metadata": {
        "colab": {
          "base_uri": "https://localhost:8080/"
        },
        "id": "3npLKHsQQJBb",
        "outputId": "420e6c6d-173b-4b24-d7fd-b8d51b78f9ef"
      },
      "execution_count": null,
      "outputs": [
        {
          "output_type": "execute_result",
          "data": {
            "text/plain": [
              "(0.2981928977210926, 0.2981928977210926, 2.9004972615377103)"
            ]
          },
          "metadata": {},
          "execution_count": 15
        }
      ]
    },
    {
      "cell_type": "code",
      "source": [
        "np.std?"
      ],
      "metadata": {
        "id": "u7vDIFSzQ6wi"
      },
      "execution_count": null,
      "outputs": []
    },
    {
      "cell_type": "code",
      "source": [
        "np.sqrt(np.var(y)), np.std(y)"
      ],
      "metadata": {
        "colab": {
          "base_uri": "https://localhost:8080/"
        },
        "id": "Vcdh7ZZYQ8T1",
        "outputId": "df6474be-0db4-461a-f906-440b5712943e"
      },
      "execution_count": null,
      "outputs": [
        {
          "output_type": "execute_result",
          "data": {
            "text/plain": [
              "(1.7030846313491619, 1.7030846313491619)"
            ]
          },
          "metadata": {},
          "execution_count": 17
        }
      ]
    },
    {
      "cell_type": "markdown",
      "source": [
        "We can also apply the *np.mean()*, *np.var()*, and *np.std()* functions to the rows and columns of a matrix..."
      ],
      "metadata": {
        "id": "GgAsFFS8RD-y"
      }
    },
    {
      "cell_type": "code",
      "source": [
        "X = rng.standard_normal((5, 5))\n",
        "X"
      ],
      "metadata": {
        "colab": {
          "base_uri": "https://localhost:8080/"
        },
        "id": "_Oo-dBqMRRpc",
        "outputId": "8f033db1-9e38-4e09-b724-d5e741a70e3a"
      },
      "execution_count": null,
      "outputs": [
        {
          "output_type": "execute_result",
          "data": {
            "text/plain": [
              "array([[ 0.02425957,  1.54582085,  0.54510552, -0.50522874, -0.18283897],\n",
              "       [ 0.54052513,  1.93508803, -0.26962033, -0.24355868,  1.0023136 ],\n",
              "       [-0.88645994, -0.29172023,  0.88253897,  0.58035002,  0.0915167 ],\n",
              "       [ 0.67010435, -2.82816231,  1.02130682, -0.95964476, -1.66861984],\n",
              "       [ 0.27644576,  0.70054489, -0.44476746, -1.07640584,  0.02612483]])"
            ]
          },
          "metadata": {},
          "execution_count": 18
        }
      ]
    },
    {
      "cell_type": "markdown",
      "source": [
        "Arrays are row-major ordered, so the first axis (*axis=0*) refers to its rows. This argument is passed into the *mean()* method for the object X..."
      ],
      "metadata": {
        "id": "dM60PifQRYD4"
      }
    },
    {
      "cell_type": "code",
      "source": [
        "X.mean(axis=0)"
      ],
      "metadata": {
        "colab": {
          "base_uri": "https://localhost:8080/"
        },
        "id": "3LRxlr8ARi2g",
        "outputId": "fb4d6409-9878-41a1-b046-8bc5e57b0538"
      },
      "execution_count": null,
      "outputs": [
        {
          "output_type": "execute_result",
          "data": {
            "text/plain": [
              "array([ 0.12497497,  0.21231425,  0.3469127 , -0.4408976 , -0.14630074])"
            ]
          },
          "metadata": {},
          "execution_count": 19
        }
      ]
    },
    {
      "cell_type": "markdown",
      "source": [
        "We can also just pass in *0* to represent row-major order..."
      ],
      "metadata": {
        "id": "eoNGPXK8Rp13"
      }
    },
    {
      "cell_type": "code",
      "source": [
        "X.mean(0)"
      ],
      "metadata": {
        "id": "VlndtLuTRvi-",
        "outputId": "b1deff4b-869e-4004-c8ba-e187d1c6c421",
        "colab": {
          "base_uri": "https://localhost:8080/"
        }
      },
      "execution_count": null,
      "outputs": [
        {
          "output_type": "execute_result",
          "data": {
            "text/plain": [
              "array([ 0.12497497,  0.21231425,  0.3469127 , -0.4408976 , -0.14630074])"
            ]
          },
          "metadata": {},
          "execution_count": 20
        }
      ]
    },
    {
      "cell_type": "markdown",
      "source": [
        "##Graphics"
      ],
      "metadata": {
        "id": "uCCXwG2SRzaZ"
      }
    },
    {
      "cell_type": "markdown",
      "source": [
        "In Python, it's common practice to use the *matplotlib* library for graphics."
      ],
      "metadata": {
        "id": "rP4bh7Kq9c2H"
      }
    }
  ],
  "metadata": {
    "colab": {
      "provenance": [],
      "authorship_tag": "ABX9TyPxAL8OVpJRKWltLev0EtpA",
      "include_colab_link": true
    },
    "kernelspec": {
      "display_name": "Python 3 (ipykernel)",
      "language": "python",
      "name": "python3"
    },
    "language_info": {
      "codemirror_mode": {
        "name": "ipython",
        "version": 3
      },
      "file_extension": ".py",
      "mimetype": "text/x-python",
      "name": "python",
      "nbconvert_exporter": "python",
      "pygments_lexer": "ipython3",
      "version": "3.12.4"
    }
  },
  "nbformat": 4,
  "nbformat_minor": 0
}