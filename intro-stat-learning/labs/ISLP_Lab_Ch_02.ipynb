{
  "nbformat": 4,
  "nbformat_minor": 0,
  "metadata": {
    "colab": {
      "provenance": [],
      "authorship_tag": "ABX9TyOFb8vfOjCBpaeusOAgd39B",
      "include_colab_link": true
    },
    "kernelspec": {
      "name": "python3",
      "display_name": "Python 3"
    },
    "language_info": {
      "name": "python"
    }
  },
  "cells": [
    {
      "cell_type": "markdown",
      "metadata": {
        "id": "view-in-github",
        "colab_type": "text"
      },
      "source": [
        "<a href=\"https://colab.research.google.com/github/taadith/python-projects/blob/main/intro-stat-learning/labs/ISLP_Lab_Ch_02.ipynb\" target=\"_parent\"><img src=\"https://colab.research.google.com/assets/colab-badge.svg\" alt=\"Open In Colab\"/></a>"
      ]
    },
    {
      "cell_type": "markdown",
      "source": [
        "# Introduction to Statistical Learning - Lab 02\n",
        "Dataset provided by Introduction to Statistical Learning\n",
        "(from this website: https://www.statlearning.com/resources-python)"
      ],
      "metadata": {
        "id": "kJdlBjzEEv_e"
      }
    },
    {
      "cell_type": "markdown",
      "source": [
        "**Note: Assuming that *Auto.csv* is in same folder as this notebook.**"
      ],
      "metadata": {
        "id": "CCxUdV67G9T5"
      }
    },
    {
      "cell_type": "markdown",
      "source": [
        "## Installing libraries"
      ],
      "metadata": {
        "id": "E4WmiyAqFV8i"
      }
    },
    {
      "cell_type": "code",
      "source": [
        "!pip install pandas\n",
        "!pip install numpy\n",
        "!pip install matplotlib\n",
        "!pip install seaborn"
      ],
      "metadata": {
        "id": "GQL7bR-yxiHa",
        "collapsed": true,
        "outputId": "fa324df1-5cd5-47d2-dea8-d381cdd6558f",
        "colab": {
          "base_uri": "https://localhost:8080/"
        }
      },
      "execution_count": null,
      "outputs": [
        {
          "output_type": "stream",
          "name": "stdout",
          "text": [
            "Requirement already satisfied: pandas in /usr/local/lib/python3.10/dist-packages (2.0.3)\n",
            "Requirement already satisfied: python-dateutil>=2.8.2 in /usr/local/lib/python3.10/dist-packages (from pandas) (2.8.2)\n",
            "Requirement already satisfied: pytz>=2020.1 in /usr/local/lib/python3.10/dist-packages (from pandas) (2023.4)\n",
            "Requirement already satisfied: tzdata>=2022.1 in /usr/local/lib/python3.10/dist-packages (from pandas) (2024.1)\n",
            "Requirement already satisfied: numpy>=1.21.0 in /usr/local/lib/python3.10/dist-packages (from pandas) (1.25.2)\n",
            "Requirement already satisfied: six>=1.5 in /usr/local/lib/python3.10/dist-packages (from python-dateutil>=2.8.2->pandas) (1.16.0)\n",
            "Requirement already satisfied: numpy in /usr/local/lib/python3.10/dist-packages (1.25.2)\n",
            "Requirement already satisfied: matplotlib in /usr/local/lib/python3.10/dist-packages (3.7.1)\n",
            "Requirement already satisfied: contourpy>=1.0.1 in /usr/local/lib/python3.10/dist-packages (from matplotlib) (1.2.1)\n",
            "Requirement already satisfied: cycler>=0.10 in /usr/local/lib/python3.10/dist-packages (from matplotlib) (0.12.1)\n",
            "Requirement already satisfied: fonttools>=4.22.0 in /usr/local/lib/python3.10/dist-packages (from matplotlib) (4.53.1)\n",
            "Requirement already satisfied: kiwisolver>=1.0.1 in /usr/local/lib/python3.10/dist-packages (from matplotlib) (1.4.5)\n",
            "Requirement already satisfied: numpy>=1.20 in /usr/local/lib/python3.10/dist-packages (from matplotlib) (1.25.2)\n",
            "Requirement already satisfied: packaging>=20.0 in /usr/local/lib/python3.10/dist-packages (from matplotlib) (24.1)\n",
            "Requirement already satisfied: pillow>=6.2.0 in /usr/local/lib/python3.10/dist-packages (from matplotlib) (9.4.0)\n",
            "Requirement already satisfied: pyparsing>=2.3.1 in /usr/local/lib/python3.10/dist-packages (from matplotlib) (3.1.2)\n",
            "Requirement already satisfied: python-dateutil>=2.7 in /usr/local/lib/python3.10/dist-packages (from matplotlib) (2.8.2)\n",
            "Requirement already satisfied: six>=1.5 in /usr/local/lib/python3.10/dist-packages (from python-dateutil>=2.7->matplotlib) (1.16.0)\n",
            "Requirement already satisfied: seaborn in /usr/local/lib/python3.10/dist-packages (0.13.1)\n",
            "Requirement already satisfied: numpy!=1.24.0,>=1.20 in /usr/local/lib/python3.10/dist-packages (from seaborn) (1.25.2)\n",
            "Requirement already satisfied: pandas>=1.2 in /usr/local/lib/python3.10/dist-packages (from seaborn) (2.0.3)\n",
            "Requirement already satisfied: matplotlib!=3.6.1,>=3.4 in /usr/local/lib/python3.10/dist-packages (from seaborn) (3.7.1)\n",
            "Requirement already satisfied: contourpy>=1.0.1 in /usr/local/lib/python3.10/dist-packages (from matplotlib!=3.6.1,>=3.4->seaborn) (1.2.1)\n",
            "Requirement already satisfied: cycler>=0.10 in /usr/local/lib/python3.10/dist-packages (from matplotlib!=3.6.1,>=3.4->seaborn) (0.12.1)\n",
            "Requirement already satisfied: fonttools>=4.22.0 in /usr/local/lib/python3.10/dist-packages (from matplotlib!=3.6.1,>=3.4->seaborn) (4.53.1)\n",
            "Requirement already satisfied: kiwisolver>=1.0.1 in /usr/local/lib/python3.10/dist-packages (from matplotlib!=3.6.1,>=3.4->seaborn) (1.4.5)\n",
            "Requirement already satisfied: packaging>=20.0 in /usr/local/lib/python3.10/dist-packages (from matplotlib!=3.6.1,>=3.4->seaborn) (24.1)\n",
            "Requirement already satisfied: pillow>=6.2.0 in /usr/local/lib/python3.10/dist-packages (from matplotlib!=3.6.1,>=3.4->seaborn) (9.4.0)\n",
            "Requirement already satisfied: pyparsing>=2.3.1 in /usr/local/lib/python3.10/dist-packages (from matplotlib!=3.6.1,>=3.4->seaborn) (3.1.2)\n",
            "Requirement already satisfied: python-dateutil>=2.7 in /usr/local/lib/python3.10/dist-packages (from matplotlib!=3.6.1,>=3.4->seaborn) (2.8.2)\n",
            "Requirement already satisfied: pytz>=2020.1 in /usr/local/lib/python3.10/dist-packages (from pandas>=1.2->seaborn) (2023.4)\n",
            "Requirement already satisfied: tzdata>=2022.1 in /usr/local/lib/python3.10/dist-packages (from pandas>=1.2->seaborn) (2024.1)\n",
            "Requirement already satisfied: six>=1.5 in /usr/local/lib/python3.10/dist-packages (from python-dateutil>=2.7->matplotlib!=3.6.1,>=3.4->seaborn) (1.16.0)\n"
          ]
        }
      ]
    },
    {
      "cell_type": "markdown",
      "source": [
        "##Basic Commands"
      ],
      "metadata": {
        "id": "ZA7sSiZ4FnLS"
      }
    },
    {
      "cell_type": "markdown",
      "source": [
        "The *?* command helps provide information about functions by providing it's respective Docstring. Here's the *print()*'s function Docstring..."
      ],
      "metadata": {
        "id": "XJ4d8fwJjUXP"
      }
    },
    {
      "cell_type": "code",
      "source": [
        "print?"
      ],
      "metadata": {
        "id": "Yk5qYySKjcSL"
      },
      "execution_count": null,
      "outputs": []
    },
    {
      "cell_type": "code",
      "source": [
        "print(\"fit a model with\", 11, \"variables\")"
      ],
      "metadata": {
        "id": "p4NHCGcLjOK3"
      },
      "execution_count": null,
      "outputs": []
    },
    {
      "cell_type": "markdown",
      "source": [
        "In Python, there are three important type of sequences, ordered lists: lists, tuples, and strings. We introduce lists..."
      ],
      "metadata": {
        "id": "Br_YwYjjjujN"
      }
    },
    {
      "cell_type": "code",
      "source": [
        "x = [1, 2, 3]\n",
        "y = [4, 5, 6]\n",
        "x + y"
      ],
      "metadata": {
        "colab": {
          "base_uri": "https://localhost:8080/"
        },
        "id": "Mhl7Og6ej5M_",
        "outputId": "702a5f18-b6bf-4c38-bb1c-b54528d2c949"
      },
      "execution_count": null,
      "outputs": [
        {
          "output_type": "execute_result",
          "data": {
            "text/plain": [
              "[1, 2, 3, 4, 5, 6]"
            ]
          },
          "metadata": {},
          "execution_count": 3
        }
      ]
    },
    {
      "cell_type": "markdown",
      "source": [
        "In Python, lists hold arbitary objects and are added by concatentation, not element-by-element. This makes sense since Python is designed as a general-purpose programming language. Python's data-specific functionality comes from the *numpy* and *pandas* packages!"
      ],
      "metadata": {
        "id": "KTojljZIj-nc"
      }
    },
    {
      "cell_type": "markdown",
      "source": [
        "## Intro to Numerical Python"
      ],
      "metadata": {
        "id": "WmkZMv9IkebD"
      }
    },
    {
      "cell_type": "code",
      "source": [
        "import numpy as np"
      ],
      "metadata": {
        "id": "bloPUkCeOyIZ"
      },
      "execution_count": null,
      "outputs": []
    },
    {
      "cell_type": "markdown",
      "source": [
        "In numpy, an array is a generic term for a multidimensional set, in the non-mathematical sense, of numbers."
      ],
      "metadata": {
        "id": "DnPx8AeNxFrh"
      }
    },
    {
      "cell_type": "code",
      "source": [
        "np.array?"
      ],
      "metadata": {
        "id": "roJ-6sixO0Jr"
      },
      "execution_count": null,
      "outputs": []
    },
    {
      "cell_type": "markdown",
      "source": [
        "We see that the numpy arrays are added to each other element-by-element instead of being concatenated!!! Yayyy!"
      ],
      "metadata": {
        "id": "FCJjFavrJUwU"
      }
    },
    {
      "cell_type": "code",
      "source": [
        "x = np.array([1, 2, 3])\n",
        "y = np.array([4, 5, 6])\n",
        "x + y"
      ],
      "metadata": {
        "colab": {
          "base_uri": "https://localhost:8080/"
        },
        "id": "Vjxgozeskgh_",
        "outputId": "c15e8a31-a43a-44dd-cb28-c39df18a2ccf"
      },
      "execution_count": null,
      "outputs": [
        {
          "output_type": "execute_result",
          "data": {
            "text/plain": [
              "array([5, 7, 9])"
            ]
          },
          "metadata": {},
          "execution_count": 12
        }
      ]
    },
    {
      "cell_type": "markdown",
      "source": [
        "Besides one-dimensional numpy arrays, we can essentially make a n-dimensional numpy array, where n is any integer greater than or equal to 1 that is computationally possible."
      ],
      "metadata": {
        "id": "2YWV7YKsJdUN"
      }
    },
    {
      "cell_type": "code",
      "source": [
        "x_1d = np.array([1, 2])\n",
        "x_2d = np.array([[1, 2], [3, 4]])\n",
        "x_3d = np.array([[[1, 2], [3, 4]], [[5, 6], [7, 8]], [[9, 10], [11, 12]], [[13, 14], [15, 16]]])"
      ],
      "metadata": {
        "id": "gf1SS7mNKdPB"
      },
      "execution_count": null,
      "outputs": []
    },
    {
      "cell_type": "markdown",
      "source": [
        "We can observe the dimensions of a numpy array using the attribute *ndim*."
      ],
      "metadata": {
        "id": "AIfl_sMoKd0D"
      }
    },
    {
      "cell_type": "code",
      "source": [
        "print(\"x_1d dimensions:\", x_1d.ndim)\n",
        "print(\"x_2d dimensions:\", x_2d.ndim)\n",
        "print(\"x_3d dimensions:\", x_3d.ndim)"
      ],
      "metadata": {
        "id": "qgdwb7gKMbob",
        "outputId": "f29c7ace-2649-45c7-e586-f82cf1afac51",
        "colab": {
          "base_uri": "https://localhost:8080/"
        }
      },
      "execution_count": null,
      "outputs": [
        {
          "output_type": "stream",
          "name": "stdout",
          "text": [
            "x_1d dimensions: 1\n",
            "x_2d dimensions: 2\n",
            "x_3d dimensions: 3\n"
          ]
        }
      ]
    },
    {
      "cell_type": "markdown",
      "source": [
        "Along with the dimensions of the numpy array, the shape of the array itself can be observed with the *shape* attribute."
      ],
      "metadata": {
        "id": "IUVh8ZjxMcal"
      }
    },
    {
      "cell_type": "code",
      "source": [
        "print(\"x_1d shape:\", x_1d.shape)\n",
        "print(\"x_2d shape:\", x_2d.shape)\n",
        "print(\"x_3d shape:\", x_3d.shape)"
      ],
      "metadata": {
        "id": "hHslpwIhNVur",
        "outputId": "bef7d5c6-8f88-4b46-d18e-a3e493926629",
        "colab": {
          "base_uri": "https://localhost:8080/"
        }
      },
      "execution_count": null,
      "outputs": [
        {
          "output_type": "stream",
          "name": "stdout",
          "text": [
            "x_1d shape: (2,)\n",
            "x_2d shape: (2, 2)\n",
            "x_3d shape: (4, 2, 2)\n"
          ]
        }
      ]
    },
    {
      "cell_type": "markdown",
      "source": [
        "The data type stored within the numpy array can be observed using *dtype()*."
      ],
      "metadata": {
        "id": "achxdy1-NPn1"
      }
    },
    {
      "cell_type": "code",
      "source": [
        "print(\"x_1d dtype:\", x_1d.dtype)\n",
        "print(\"x_2d dtype:\", x_2d.dtype)\n",
        "print(\"x_3d dtype:\", x_3d.dtype)"
      ],
      "metadata": {
        "id": "phQ8wNoAN8nS",
        "outputId": "4e967eed-5ad5-4527-88d4-b7b1a9d97485",
        "colab": {
          "base_uri": "https://localhost:8080/"
        }
      },
      "execution_count": null,
      "outputs": [
        {
          "output_type": "stream",
          "name": "stdout",
          "text": [
            "x_1d dtype: int64\n",
            "x_2d dtype: int64\n",
            "x_3d dtype: int64\n"
          ]
        }
      ]
    },
    {
      "cell_type": "markdown",
      "source": [
        "The *reshape()* method returns a new array with the same elements the numpy array that calls."
      ],
      "metadata": {
        "id": "_oscEWiDR-1M"
      }
    },
    {
      "cell_type": "code",
      "source": [
        "np.reshape?"
      ],
      "metadata": {
        "id": "CF0pJRI_VZ_n"
      },
      "execution_count": null,
      "outputs": []
    },
    {
      "cell_type": "code",
      "source": [
        "x = np.array([1, 2, 3, 4, 5, 6])\n",
        "x.reshape(2, 3)"
      ],
      "metadata": {
        "id": "9HoGDPrzVcAc",
        "outputId": "2a859d26-0c03-4cc9-facb-15a7e3f70c95",
        "colab": {
          "base_uri": "https://localhost:8080/"
        }
      },
      "execution_count": null,
      "outputs": [
        {
          "output_type": "execute_result",
          "data": {
            "text/plain": [
              "array([[1, 2, 3],\n",
              "       [4, 5, 6]])"
            ]
          },
          "metadata": {},
          "execution_count": 14
        }
      ]
    }
  ]
}